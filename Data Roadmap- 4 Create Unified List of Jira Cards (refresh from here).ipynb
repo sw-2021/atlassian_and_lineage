{
 "cells": [
  {
   "cell_type": "markdown",
   "id": "54882d45-be7a-4e79-8822-606f40ea0a80",
   "metadata": {},
   "source": [
    "This workbook is to create tickets for Connect Remastering for Audit, SAQ, and map them to the placeholder release milestone(s)\n",
    "\n",
    "Should just be able to hit \"Run all\""
   ]
  },
  {
   "cell_type": "code",
   "execution_count": 32,
   "id": "398a2646-491c-4e6e-9bb3-00c480a132e4",
   "metadata": {},
   "outputs": [],
   "source": [
    "import pandas as pd\n",
    "import json\n",
    "\n",
    "pd.options.display.max_rows = 999\n",
    "import numpy as np\n",
    "import re\n",
    "import pickle\n",
    "from atlassian import Jira\n",
    "\n",
    "import networkx as nx\n",
    "import plotly.graph_objects as go\n",
    "from plotly.validators.scatter.marker import SymbolValidator\n",
    "from pyvis.network import Network \n",
    "import pyvis.options as pyvis_options\n",
    "import datetime\n",
    "\n",
    "with open(r'C:\\Users\\steve.waterman\\Python\\creds\\Jira', 'rb') as handle:\n",
    "    mycon = pickle.load(handle)\n",
    "exec(f'jira = Jira({mycon})')\n",
    "from pprint import pprint\n",
    "\n",
    "import sys\n",
    "sys.path.append(r'C:\\Users\\steve.waterman\\Python\\read_bitbucket')\n",
    "import lineage_vis as lv\n",
    "import Useful_Jira as uj"
   ]
  },
  {
   "cell_type": "markdown",
   "id": "40c7684a-0f6f-4263-a794-c4eb4016ea64",
   "metadata": {
    "tags": []
   },
   "source": [
    "## Get the JIRA board for Data Platform"
   ]
  },
  {
   "cell_type": "code",
   "execution_count": 33,
   "id": "14d801f6-3249-4f2f-b104-59a9d9ee5d2e",
   "metadata": {
    "tags": []
   },
   "outputs": [],
   "source": [
    "# Get project and board\n",
    "myproj,myboard=uj.myprojectAndBoard(jira,'Data Platform',218)\n",
    "\n",
    "# Get tickets\n",
    "mytickets=uj.get_all_project_issues_uncapped(jira,myproj['id'])\n",
    "\n",
    "# Summarise tickets (removing unused fields)\n",
    "mytickets_succinct=uj.get_succint_ticket_list(mytickets)"
   ]
  },
  {
   "cell_type": "markdown",
   "id": "ac56c78d-6ea9-4adc-ba4c-40eee6469ef9",
   "metadata": {
    "tags": []
   },
   "source": [
    "## Map Epics to their Macro strategy strands"
   ]
  },
  {
   "cell_type": "code",
   "execution_count": 34,
   "id": "0390179b-9936-48c3-80a5-caadb0604885",
   "metadata": {},
   "outputs": [],
   "source": [
    "board_epics,epic_name_list, epic_key_list,board_epic_key_lookup=uj.get_epics_only(mytickets_succinct)"
   ]
  },
  {
   "cell_type": "code",
   "execution_count": 35,
   "id": "c1b53145-a35b-43f1-81d1-d020ff308965",
   "metadata": {
    "tags": []
   },
   "outputs": [
    {
     "data": {
      "text/plain": [
       "['Data Readiness: General',\n",
       " 'Platform: General Tasks',\n",
       " 'Platform: Permissions',\n",
       " 'Data Readiness: PDF Reader Domain',\n",
       " 'Platform: Data-Lineage',\n",
       " 'Data Readiness: Discovery & Profiling',\n",
       " 'Platform: Data-Alerting-&-Diagnostics',\n",
       " 'Platform: Data-Unit-Tests & Deployment ',\n",
       " 'Platform: GDPR+',\n",
       " 'Data Readiness:  ethnet Domain',\n",
       " 'Data Readiness:  user-management Domain',\n",
       " 'Data Readiness:  RefData Domain',\n",
       " 'Data Readiness:  slcp-assessments Domain',\n",
       " 'Data Readiness:  Visibility Domain',\n",
       " 'Data Readiness:  saq Domain',\n",
       " 'Data Readiness:  audit Domain',\n",
       " 'Data Readiness:  payments Domain',\n",
       " 'Data Readiness:  AQP-outputs Domain',\n",
       " 'Data Readiness:  radar Domain',\n",
       " 'Data Readiness:  Tableau_Usage_Data Domain',\n",
       " 'Data Readiness:  SalesForce Domain',\n",
       " 'Data Readiness:  Community_Zoom_Data Domain',\n",
       " 'Platform: Bugs',\n",
       " 'Keeping the Lights On: Pseudo Epic for Milestones and Dependencies',\n",
       " 'Data Readiness: Audit Connect Domain ',\n",
       " 'Data Readiness: SAQ Connect Domain ',\n",
       " 'Data Readiness: Logic Layer Enhancements']"
      ]
     },
     "execution_count": 35,
     "metadata": {},
     "output_type": "execute_result"
    }
   ],
   "source": [
    "epic_name_list"
   ]
  },
  {
   "cell_type": "code",
   "execution_count": 36,
   "id": "2dfd0cf9-7bd3-4aa0-8b09-4af13bfe8e58",
   "metadata": {},
   "outputs": [
    {
     "name": "stdout",
     "output_type": "stream",
     "text": [
      "1079\n"
     ]
    },
    {
     "data": {
      "text/html": [
       "<div>\n",
       "<style scoped>\n",
       "    .dataframe tbody tr th:only-of-type {\n",
       "        vertical-align: middle;\n",
       "    }\n",
       "\n",
       "    .dataframe tbody tr th {\n",
       "        vertical-align: top;\n",
       "    }\n",
       "\n",
       "    .dataframe thead th {\n",
       "        text-align: right;\n",
       "    }\n",
       "</style>\n",
       "<table border=\"1\" class=\"dataframe\">\n",
       "  <thead>\n",
       "    <tr style=\"text-align: right;\">\n",
       "      <th></th>\n",
       "      <th>key</th>\n",
       "      <th>epic_key</th>\n",
       "      <th>epic_title</th>\n",
       "    </tr>\n",
       "  </thead>\n",
       "  <tbody>\n",
       "    <tr>\n",
       "      <th>0</th>\n",
       "      <td>DATA-2</td>\n",
       "      <td>DATA-10</td>\n",
       "      <td>Data Readiness: General</td>\n",
       "    </tr>\n",
       "    <tr>\n",
       "      <th>1</th>\n",
       "      <td>DATA-4</td>\n",
       "      <td>DATA-10</td>\n",
       "      <td>Data Readiness: General</td>\n",
       "    </tr>\n",
       "    <tr>\n",
       "      <th>2</th>\n",
       "      <td>DATA-5</td>\n",
       "      <td>DATA-12</td>\n",
       "      <td>Platform: General Tasks</td>\n",
       "    </tr>\n",
       "    <tr>\n",
       "      <th>3</th>\n",
       "      <td>DATA-7</td>\n",
       "      <td>DATA-10</td>\n",
       "      <td>Data Readiness: General</td>\n",
       "    </tr>\n",
       "    <tr>\n",
       "      <th>4</th>\n",
       "      <td>DATA-8</td>\n",
       "      <td>DATA-1064</td>\n",
       "      <td>Data Readiness:  user-management Domain</td>\n",
       "    </tr>\n",
       "  </tbody>\n",
       "</table>\n",
       "</div>"
      ],
      "text/plain": [
       "      key   epic_key                               epic_title\n",
       "0  DATA-2    DATA-10                  Data Readiness: General\n",
       "1  DATA-4    DATA-10                  Data Readiness: General\n",
       "2  DATA-5    DATA-12                  Platform: General Tasks\n",
       "3  DATA-7    DATA-10                  Data Readiness: General\n",
       "4  DATA-8  DATA-1064  Data Readiness:  user-management Domain"
      ]
     },
     "execution_count": 36,
     "metadata": {},
     "output_type": "execute_result"
    }
   ],
   "source": [
    "# Get the lookup of what epic a card maps to, even if it is a nested subtask\n",
    "card_epic_df=uj.get_epic_of_nested_cards(mytickets_succinct)\n",
    "card_epic_df.head()"
   ]
  },
  {
   "cell_type": "markdown",
   "id": "8ce1ae3b-8f36-4c79-af53-a0eb219b407b",
   "metadata": {},
   "source": [
    "## Create a data frame holding cards from Data Platform Board"
   ]
  },
  {
   "cell_type": "code",
   "execution_count": 37,
   "id": "1a62a98e-be80-42cd-bb50-2a6f8d345b0e",
   "metadata": {
    "tags": []
   },
   "outputs": [],
   "source": [
    "# Turn JIRA board into a df and match in the EPIC info\n",
    "df=pd.DataFrame(mytickets_succinct).merge(card_epic_df,how='left',on='key') \n",
    "\n",
    "# Then derive the macro strand that a ticket belongs to\n",
    "df.loc[df['epic_key'].notna(),'Strategy Macro Strand']=df.loc[df['epic_key'].notna(),'epic_title'].apply(lambda x: x.split(':')[0])\n",
    "df.loc[df['epic_key'].notna(),'Strategy Micro Strand']=df.loc[df['epic_key'].notna(),'epic_title'].apply(lambda x: x.split(':')[1].strip() if len(x.split(':'))>1 else 'Unknown')\n"
   ]
  },
  {
   "cell_type": "code",
   "execution_count": 38,
   "id": "781870d2-936e-4f72-81cb-fe2318362c9f",
   "metadata": {},
   "outputs": [
    {
     "data": {
      "text/html": [
       "<div>\n",
       "<style scoped>\n",
       "    .dataframe tbody tr th:only-of-type {\n",
       "        vertical-align: middle;\n",
       "    }\n",
       "\n",
       "    .dataframe tbody tr th {\n",
       "        vertical-align: top;\n",
       "    }\n",
       "\n",
       "    .dataframe thead th {\n",
       "        text-align: right;\n",
       "    }\n",
       "</style>\n",
       "<table border=\"1\" class=\"dataframe\">\n",
       "  <thead>\n",
       "    <tr style=\"text-align: right;\">\n",
       "      <th></th>\n",
       "      <th>id</th>\n",
       "      <th>key</th>\n",
       "      <th>title</th>\n",
       "      <th>assignee_name</th>\n",
       "      <th>status_name</th>\n",
       "      <th>status_id</th>\n",
       "      <th>issuetype_name</th>\n",
       "      <th>issuetype_id</th>\n",
       "      <th>project_id</th>\n",
       "      <th>project_key</th>\n",
       "      <th>...</th>\n",
       "      <th>parent_id</th>\n",
       "      <th>parent_key</th>\n",
       "      <th>parent_title</th>\n",
       "      <th>parent_type</th>\n",
       "      <th>parent_type_id</th>\n",
       "      <th>description</th>\n",
       "      <th>epic_key</th>\n",
       "      <th>epic_title</th>\n",
       "      <th>Strategy Macro Strand</th>\n",
       "      <th>Strategy Micro Strand</th>\n",
       "    </tr>\n",
       "  </thead>\n",
       "  <tbody>\n",
       "    <tr>\n",
       "      <th>1517</th>\n",
       "      <td>69544</td>\n",
       "      <td>DATA-1767</td>\n",
       "      <td>Data Readiness: Audit Connect Domain</td>\n",
       "      <td>None</td>\n",
       "      <td>To Do</td>\n",
       "      <td>12057</td>\n",
       "      <td>Epic</td>\n",
       "      <td>10590</td>\n",
       "      <td>12757</td>\n",
       "      <td>DATA</td>\n",
       "      <td>...</td>\n",
       "      <td>NaN</td>\n",
       "      <td>NaN</td>\n",
       "      <td>NaN</td>\n",
       "      <td>NaN</td>\n",
       "      <td>NaN</td>\n",
       "      <td>Ingest, Cleansing and general Data Prep for Au...</td>\n",
       "      <td>NaN</td>\n",
       "      <td>NaN</td>\n",
       "      <td>NaN</td>\n",
       "      <td>NaN</td>\n",
       "    </tr>\n",
       "  </tbody>\n",
       "</table>\n",
       "<p>1 rows × 24 columns</p>\n",
       "</div>"
      ],
      "text/plain": [
       "         id        key                                  title assignee_name  \\\n",
       "1517  69544  DATA-1767  Data Readiness: Audit Connect Domain           None   \n",
       "\n",
       "     status_name status_id issuetype_name issuetype_id project_id project_key  \\\n",
       "1517       To Do     12057           Epic        10590      12757        DATA   \n",
       "\n",
       "      ... parent_id parent_key parent_title parent_type parent_type_id  \\\n",
       "1517  ...       NaN        NaN          NaN         NaN            NaN   \n",
       "\n",
       "                                            description epic_key epic_title  \\\n",
       "1517  Ingest, Cleansing and general Data Prep for Au...      NaN        NaN   \n",
       "\n",
       "     Strategy Macro Strand Strategy Micro Strand  \n",
       "1517                   NaN                   NaN  \n",
       "\n",
       "[1 rows x 24 columns]"
      ]
     },
     "execution_count": 38,
     "metadata": {},
     "output_type": "execute_result"
    }
   ],
   "source": [
    "df.loc[df['key']=='DATA-1767']"
   ]
  },
  {
   "cell_type": "code",
   "execution_count": 39,
   "id": "4b42c9d4-51fa-4a04-84aa-f287aba09a92",
   "metadata": {
    "tags": []
   },
   "outputs": [
    {
     "data": {
      "text/html": [
       "<div>\n",
       "<style scoped>\n",
       "    .dataframe tbody tr th:only-of-type {\n",
       "        vertical-align: middle;\n",
       "    }\n",
       "\n",
       "    .dataframe tbody tr th {\n",
       "        vertical-align: top;\n",
       "    }\n",
       "\n",
       "    .dataframe thead th {\n",
       "        text-align: right;\n",
       "    }\n",
       "</style>\n",
       "<table border=\"1\" class=\"dataframe\">\n",
       "  <thead>\n",
       "    <tr style=\"text-align: right;\">\n",
       "      <th></th>\n",
       "      <th>id</th>\n",
       "      <th>key</th>\n",
       "      <th>title</th>\n",
       "      <th>assignee_name</th>\n",
       "      <th>status_name</th>\n",
       "      <th>status_id</th>\n",
       "      <th>issuetype_name</th>\n",
       "      <th>issuetype_id</th>\n",
       "      <th>project_id</th>\n",
       "      <th>project_key</th>\n",
       "      <th>...</th>\n",
       "      <th>parent_id</th>\n",
       "      <th>parent_key</th>\n",
       "      <th>parent_title</th>\n",
       "      <th>parent_type</th>\n",
       "      <th>parent_type_id</th>\n",
       "      <th>description</th>\n",
       "      <th>epic_key</th>\n",
       "      <th>epic_title</th>\n",
       "      <th>Strategy Macro Strand</th>\n",
       "      <th>Strategy Micro Strand</th>\n",
       "    </tr>\n",
       "  </thead>\n",
       "  <tbody>\n",
       "    <tr>\n",
       "      <th>167</th>\n",
       "      <td>64874</td>\n",
       "      <td>DATA-368</td>\n",
       "      <td>Use Stitch to set up regular ingest of Tableau...</td>\n",
       "      <td>None</td>\n",
       "      <td>To Do</td>\n",
       "      <td>12057</td>\n",
       "      <td>Task</td>\n",
       "      <td>10588</td>\n",
       "      <td>12757</td>\n",
       "      <td>DATA</td>\n",
       "      <td>...</td>\n",
       "      <td>NaN</td>\n",
       "      <td>NaN</td>\n",
       "      <td>NaN</td>\n",
       "      <td>NaN</td>\n",
       "      <td>NaN</td>\n",
       "      <td>Implement the data ingest of the following dat...</td>\n",
       "      <td>NaN</td>\n",
       "      <td>NaN</td>\n",
       "      <td>NaN</td>\n",
       "      <td>NaN</td>\n",
       "    </tr>\n",
       "    <tr>\n",
       "      <th>168</th>\n",
       "      <td>64875</td>\n",
       "      <td>DATA-369</td>\n",
       "      <td>Ingest Stitch feed(s) into S3 for Tableau Prod...</td>\n",
       "      <td>None</td>\n",
       "      <td>To Do</td>\n",
       "      <td>12057</td>\n",
       "      <td>Task</td>\n",
       "      <td>10588</td>\n",
       "      <td>12757</td>\n",
       "      <td>DATA</td>\n",
       "      <td>...</td>\n",
       "      <td>NaN</td>\n",
       "      <td>NaN</td>\n",
       "      <td>NaN</td>\n",
       "      <td>NaN</td>\n",
       "      <td>NaN</td>\n",
       "      <td>The feed(s) need to be first stored in S3- agn...</td>\n",
       "      <td>NaN</td>\n",
       "      <td>NaN</td>\n",
       "      <td>NaN</td>\n",
       "      <td>NaN</td>\n",
       "    </tr>\n",
       "    <tr>\n",
       "      <th>169</th>\n",
       "      <td>64876</td>\n",
       "      <td>DATA-370</td>\n",
       "      <td>Tableau Prod (Staff) Usage Data: Build Stage</td>\n",
       "      <td>None</td>\n",
       "      <td>To Do</td>\n",
       "      <td>12057</td>\n",
       "      <td>Task</td>\n",
       "      <td>10588</td>\n",
       "      <td>12757</td>\n",
       "      <td>DATA</td>\n",
       "      <td>...</td>\n",
       "      <td>NaN</td>\n",
       "      <td>NaN</td>\n",
       "      <td>NaN</td>\n",
       "      <td>NaN</td>\n",
       "      <td>NaN</td>\n",
       "      <td>Consume as is from S3 and unpack JSON (if in J...</td>\n",
       "      <td>NaN</td>\n",
       "      <td>NaN</td>\n",
       "      <td>NaN</td>\n",
       "      <td>NaN</td>\n",
       "    </tr>\n",
       "    <tr>\n",
       "      <th>170</th>\n",
       "      <td>64877</td>\n",
       "      <td>DATA-371</td>\n",
       "      <td>Tableau Prod (Staff) Usage Data: Build Transform</td>\n",
       "      <td>None</td>\n",
       "      <td>To Do</td>\n",
       "      <td>12057</td>\n",
       "      <td>Task</td>\n",
       "      <td>10588</td>\n",
       "      <td>12757</td>\n",
       "      <td>DATA</td>\n",
       "      <td>...</td>\n",
       "      <td>NaN</td>\n",
       "      <td>NaN</td>\n",
       "      <td>NaN</td>\n",
       "      <td>NaN</td>\n",
       "      <td>NaN</td>\n",
       "      <td>Apply Datasource-agnostic transformations such...</td>\n",
       "      <td>NaN</td>\n",
       "      <td>NaN</td>\n",
       "      <td>NaN</td>\n",
       "      <td>NaN</td>\n",
       "    </tr>\n",
       "    <tr>\n",
       "      <th>171</th>\n",
       "      <td>64878</td>\n",
       "      <td>DATA-372</td>\n",
       "      <td>Tableau Prod (Staff) Usage Data: Build Logical...</td>\n",
       "      <td>None</td>\n",
       "      <td>To Do</td>\n",
       "      <td>12057</td>\n",
       "      <td>Task</td>\n",
       "      <td>10588</td>\n",
       "      <td>12757</td>\n",
       "      <td>DATA</td>\n",
       "      <td>...</td>\n",
       "      <td>NaN</td>\n",
       "      <td>NaN</td>\n",
       "      <td>NaN</td>\n",
       "      <td>NaN</td>\n",
       "      <td>NaN</td>\n",
       "      <td>Apply Datasource-specific transformations and ...</td>\n",
       "      <td>NaN</td>\n",
       "      <td>NaN</td>\n",
       "      <td>NaN</td>\n",
       "      <td>NaN</td>\n",
       "    </tr>\n",
       "    <tr>\n",
       "      <th>172</th>\n",
       "      <td>64879</td>\n",
       "      <td>DATA-373</td>\n",
       "      <td>Tableau Prod (Staff) Usage Data: Build Present...</td>\n",
       "      <td>None</td>\n",
       "      <td>To Do</td>\n",
       "      <td>12057</td>\n",
       "      <td>Task</td>\n",
       "      <td>10588</td>\n",
       "      <td>12757</td>\n",
       "      <td>DATA</td>\n",
       "      <td>...</td>\n",
       "      <td>NaN</td>\n",
       "      <td>NaN</td>\n",
       "      <td>NaN</td>\n",
       "      <td>NaN</td>\n",
       "      <td>NaN</td>\n",
       "      <td>Build the presentation layer(s). These should...</td>\n",
       "      <td>NaN</td>\n",
       "      <td>NaN</td>\n",
       "      <td>NaN</td>\n",
       "      <td>NaN</td>\n",
       "    </tr>\n",
       "    <tr>\n",
       "      <th>173</th>\n",
       "      <td>64880</td>\n",
       "      <td>DATA-374</td>\n",
       "      <td>Tableau Prod (Staff) Usage Data: Final Reconci...</td>\n",
       "      <td>None</td>\n",
       "      <td>To Do</td>\n",
       "      <td>12057</td>\n",
       "      <td>Task</td>\n",
       "      <td>10588</td>\n",
       "      <td>12757</td>\n",
       "      <td>DATA</td>\n",
       "      <td>...</td>\n",
       "      <td>NaN</td>\n",
       "      <td>NaN</td>\n",
       "      <td>NaN</td>\n",
       "      <td>NaN</td>\n",
       "      <td>NaN</td>\n",
       "      <td>Data should have been sanity-checked along the...</td>\n",
       "      <td>NaN</td>\n",
       "      <td>NaN</td>\n",
       "      <td>NaN</td>\n",
       "      <td>NaN</td>\n",
       "    </tr>\n",
       "    <tr>\n",
       "      <th>176</th>\n",
       "      <td>64883</td>\n",
       "      <td>DATA-377</td>\n",
       "      <td>Promote all layers to Production (i.e. release...</td>\n",
       "      <td>None</td>\n",
       "      <td>To Do</td>\n",
       "      <td>12057</td>\n",
       "      <td>Task</td>\n",
       "      <td>10588</td>\n",
       "      <td>12757</td>\n",
       "      <td>DATA</td>\n",
       "      <td>...</td>\n",
       "      <td>NaN</td>\n",
       "      <td>NaN</td>\n",
       "      <td>NaN</td>\n",
       "      <td>NaN</td>\n",
       "      <td>NaN</td>\n",
       "      <td>If all previous steps have been done, this sho...</td>\n",
       "      <td>NaN</td>\n",
       "      <td>NaN</td>\n",
       "      <td>NaN</td>\n",
       "      <td>NaN</td>\n",
       "    </tr>\n",
       "    <tr>\n",
       "      <th>226</th>\n",
       "      <td>61488</td>\n",
       "      <td>DATA-440</td>\n",
       "      <td>Investigation: find out how to get data from t...</td>\n",
       "      <td>None</td>\n",
       "      <td>To Do</td>\n",
       "      <td>12057</td>\n",
       "      <td>Story</td>\n",
       "      <td>10587</td>\n",
       "      <td>12757</td>\n",
       "      <td>DATA</td>\n",
       "      <td>...</td>\n",
       "      <td>NaN</td>\n",
       "      <td>NaN</td>\n",
       "      <td>NaN</td>\n",
       "      <td>NaN</td>\n",
       "      <td>NaN</td>\n",
       "      <td>A CMM machine learning app was developed as pa...</td>\n",
       "      <td>NaN</td>\n",
       "      <td>NaN</td>\n",
       "      <td>NaN</td>\n",
       "      <td>NaN</td>\n",
       "    </tr>\n",
       "    <tr>\n",
       "      <th>227</th>\n",
       "      <td>61489</td>\n",
       "      <td>DATA-441</td>\n",
       "      <td>Investigation: find out how to get the data fr...</td>\n",
       "      <td>None</td>\n",
       "      <td>To Do</td>\n",
       "      <td>12057</td>\n",
       "      <td>Story</td>\n",
       "      <td>10587</td>\n",
       "      <td>12757</td>\n",
       "      <td>DATA</td>\n",
       "      <td>...</td>\n",
       "      <td>NaN</td>\n",
       "      <td>NaN</td>\n",
       "      <td>NaN</td>\n",
       "      <td>NaN</td>\n",
       "      <td>NaN</td>\n",
       "      <td>Instilled is the platform used for auditor tra...</td>\n",
       "      <td>NaN</td>\n",
       "      <td>NaN</td>\n",
       "      <td>NaN</td>\n",
       "      <td>NaN</td>\n",
       "    </tr>\n",
       "    <tr>\n",
       "      <th>229</th>\n",
       "      <td>61342</td>\n",
       "      <td>DATA-443</td>\n",
       "      <td>Raw data for RS: Data from OAT audits</td>\n",
       "      <td>None</td>\n",
       "      <td>To Do</td>\n",
       "      <td>12057</td>\n",
       "      <td>Story</td>\n",
       "      <td>10587</td>\n",
       "      <td>12757</td>\n",
       "      <td>DATA</td>\n",
       "      <td>...</td>\n",
       "      <td>NaN</td>\n",
       "      <td>NaN</td>\n",
       "      <td>NaN</td>\n",
       "      <td>NaN</td>\n",
       "      <td>NaN</td>\n",
       "      <td>+Background:+\\nThe Responsible Sourcing team h...</td>\n",
       "      <td>NaN</td>\n",
       "      <td>NaN</td>\n",
       "      <td>NaN</td>\n",
       "      <td>NaN</td>\n",
       "    </tr>\n",
       "    <tr>\n",
       "      <th>967</th>\n",
       "      <td>68247</td>\n",
       "      <td>DATA-1215</td>\n",
       "      <td>Design an approach for creating aggregate tabl...</td>\n",
       "      <td>{'self': 'https://sedexsolutions.atlassian.net...</td>\n",
       "      <td>Done</td>\n",
       "      <td>12059</td>\n",
       "      <td>Task</td>\n",
       "      <td>10588</td>\n",
       "      <td>12757</td>\n",
       "      <td>DATA</td>\n",
       "      <td>...</td>\n",
       "      <td>NaN</td>\n",
       "      <td>NaN</td>\n",
       "      <td>NaN</td>\n",
       "      <td>NaN</td>\n",
       "      <td>NaN</td>\n",
       "      <td>None</td>\n",
       "      <td>NaN</td>\n",
       "      <td>NaN</td>\n",
       "      <td>NaN</td>\n",
       "      <td>NaN</td>\n",
       "    </tr>\n",
       "    <tr>\n",
       "      <th>969</th>\n",
       "      <td>68346</td>\n",
       "      <td>DATA-1217</td>\n",
       "      <td>Address and Billing Address relation feeds are...</td>\n",
       "      <td>{'self': 'https://sedexsolutions.atlassian.net...</td>\n",
       "      <td>Done</td>\n",
       "      <td>12059</td>\n",
       "      <td>Task</td>\n",
       "      <td>10588</td>\n",
       "      <td>12757</td>\n",
       "      <td>DATA</td>\n",
       "      <td>...</td>\n",
       "      <td>NaN</td>\n",
       "      <td>NaN</td>\n",
       "      <td>NaN</td>\n",
       "      <td>NaN</td>\n",
       "      <td>NaN</td>\n",
       "      <td>Observation:\\n\\nWhile the streams related to a...</td>\n",
       "      <td>NaN</td>\n",
       "      <td>NaN</td>\n",
       "      <td>NaN</td>\n",
       "      <td>NaN</td>\n",
       "    </tr>\n",
       "    <tr>\n",
       "      <th>1506</th>\n",
       "      <td>69034</td>\n",
       "      <td>DATA-1756</td>\n",
       "      <td>Add columns to sites and add the standardizati...</td>\n",
       "      <td>{'self': 'https://sedexsolutions.atlassian.net...</td>\n",
       "      <td>Done</td>\n",
       "      <td>12059</td>\n",
       "      <td>Task</td>\n",
       "      <td>10588</td>\n",
       "      <td>12757</td>\n",
       "      <td>DATA</td>\n",
       "      <td>...</td>\n",
       "      <td>NaN</td>\n",
       "      <td>NaN</td>\n",
       "      <td>NaN</td>\n",
       "      <td>NaN</td>\n",
       "      <td>NaN</td>\n",
       "      <td>The sites table needs the addition of certain ...</td>\n",
       "      <td>NaN</td>\n",
       "      <td>NaN</td>\n",
       "      <td>NaN</td>\n",
       "      <td>NaN</td>\n",
       "    </tr>\n",
       "    <tr>\n",
       "      <th>1514</th>\n",
       "      <td>69437</td>\n",
       "      <td>DATA-1764</td>\n",
       "      <td>Add column MODIFIED_ON_DATE to the logic_audit...</td>\n",
       "      <td>{'self': 'https://sedexsolutions.atlassian.net...</td>\n",
       "      <td>Done</td>\n",
       "      <td>12059</td>\n",
       "      <td>Task</td>\n",
       "      <td>10588</td>\n",
       "      <td>12757</td>\n",
       "      <td>DATA</td>\n",
       "      <td>...</td>\n",
       "      <td>NaN</td>\n",
       "      <td>NaN</td>\n",
       "      <td>NaN</td>\n",
       "      <td>NaN</td>\n",
       "      <td>NaN</td>\n",
       "      <td>Please, add _MODIFIED_ON_DATE_ column to the {...</td>\n",
       "      <td>NaN</td>\n",
       "      <td>NaN</td>\n",
       "      <td>NaN</td>\n",
       "      <td>NaN</td>\n",
       "    </tr>\n",
       "    <tr>\n",
       "      <th>1588</th>\n",
       "      <td>70039</td>\n",
       "      <td>DATA-1839</td>\n",
       "      <td>Design an approach for creating aggregate tabl...</td>\n",
       "      <td>{'self': 'https://sedexsolutions.atlassian.net...</td>\n",
       "      <td>To Do</td>\n",
       "      <td>12057</td>\n",
       "      <td>Task</td>\n",
       "      <td>10588</td>\n",
       "      <td>12757</td>\n",
       "      <td>DATA</td>\n",
       "      <td>...</td>\n",
       "      <td>NaN</td>\n",
       "      <td>NaN</td>\n",
       "      <td>NaN</td>\n",
       "      <td>NaN</td>\n",
       "      <td>NaN</td>\n",
       "      <td>None</td>\n",
       "      <td>NaN</td>\n",
       "      <td>NaN</td>\n",
       "      <td>NaN</td>\n",
       "      <td>NaN</td>\n",
       "    </tr>\n",
       "  </tbody>\n",
       "</table>\n",
       "<p>16 rows × 24 columns</p>\n",
       "</div>"
      ],
      "text/plain": [
       "         id        key                                              title  \\\n",
       "167   64874   DATA-368  Use Stitch to set up regular ingest of Tableau...   \n",
       "168   64875   DATA-369  Ingest Stitch feed(s) into S3 for Tableau Prod...   \n",
       "169   64876   DATA-370       Tableau Prod (Staff) Usage Data: Build Stage   \n",
       "170   64877   DATA-371   Tableau Prod (Staff) Usage Data: Build Transform   \n",
       "171   64878   DATA-372  Tableau Prod (Staff) Usage Data: Build Logical...   \n",
       "172   64879   DATA-373  Tableau Prod (Staff) Usage Data: Build Present...   \n",
       "173   64880   DATA-374  Tableau Prod (Staff) Usage Data: Final Reconci...   \n",
       "176   64883   DATA-377  Promote all layers to Production (i.e. release...   \n",
       "226   61488   DATA-440  Investigation: find out how to get data from t...   \n",
       "227   61489   DATA-441  Investigation: find out how to get the data fr...   \n",
       "229   61342   DATA-443              Raw data for RS: Data from OAT audits   \n",
       "967   68247  DATA-1215  Design an approach for creating aggregate tabl...   \n",
       "969   68346  DATA-1217  Address and Billing Address relation feeds are...   \n",
       "1506  69034  DATA-1756  Add columns to sites and add the standardizati...   \n",
       "1514  69437  DATA-1764  Add column MODIFIED_ON_DATE to the logic_audit...   \n",
       "1588  70039  DATA-1839  Design an approach for creating aggregate tabl...   \n",
       "\n",
       "                                          assignee_name status_name status_id  \\\n",
       "167                                                None       To Do     12057   \n",
       "168                                                None       To Do     12057   \n",
       "169                                                None       To Do     12057   \n",
       "170                                                None       To Do     12057   \n",
       "171                                                None       To Do     12057   \n",
       "172                                                None       To Do     12057   \n",
       "173                                                None       To Do     12057   \n",
       "176                                                None       To Do     12057   \n",
       "226                                                None       To Do     12057   \n",
       "227                                                None       To Do     12057   \n",
       "229                                                None       To Do     12057   \n",
       "967   {'self': 'https://sedexsolutions.atlassian.net...        Done     12059   \n",
       "969   {'self': 'https://sedexsolutions.atlassian.net...        Done     12059   \n",
       "1506  {'self': 'https://sedexsolutions.atlassian.net...        Done     12059   \n",
       "1514  {'self': 'https://sedexsolutions.atlassian.net...        Done     12059   \n",
       "1588  {'self': 'https://sedexsolutions.atlassian.net...       To Do     12057   \n",
       "\n",
       "     issuetype_name issuetype_id project_id project_key  ... parent_id  \\\n",
       "167            Task        10588      12757        DATA  ...       NaN   \n",
       "168            Task        10588      12757        DATA  ...       NaN   \n",
       "169            Task        10588      12757        DATA  ...       NaN   \n",
       "170            Task        10588      12757        DATA  ...       NaN   \n",
       "171            Task        10588      12757        DATA  ...       NaN   \n",
       "172            Task        10588      12757        DATA  ...       NaN   \n",
       "173            Task        10588      12757        DATA  ...       NaN   \n",
       "176            Task        10588      12757        DATA  ...       NaN   \n",
       "226           Story        10587      12757        DATA  ...       NaN   \n",
       "227           Story        10587      12757        DATA  ...       NaN   \n",
       "229           Story        10587      12757        DATA  ...       NaN   \n",
       "967            Task        10588      12757        DATA  ...       NaN   \n",
       "969            Task        10588      12757        DATA  ...       NaN   \n",
       "1506           Task        10588      12757        DATA  ...       NaN   \n",
       "1514           Task        10588      12757        DATA  ...       NaN   \n",
       "1588           Task        10588      12757        DATA  ...       NaN   \n",
       "\n",
       "     parent_key parent_title parent_type parent_type_id  \\\n",
       "167         NaN          NaN         NaN            NaN   \n",
       "168         NaN          NaN         NaN            NaN   \n",
       "169         NaN          NaN         NaN            NaN   \n",
       "170         NaN          NaN         NaN            NaN   \n",
       "171         NaN          NaN         NaN            NaN   \n",
       "172         NaN          NaN         NaN            NaN   \n",
       "173         NaN          NaN         NaN            NaN   \n",
       "176         NaN          NaN         NaN            NaN   \n",
       "226         NaN          NaN         NaN            NaN   \n",
       "227         NaN          NaN         NaN            NaN   \n",
       "229         NaN          NaN         NaN            NaN   \n",
       "967         NaN          NaN         NaN            NaN   \n",
       "969         NaN          NaN         NaN            NaN   \n",
       "1506        NaN          NaN         NaN            NaN   \n",
       "1514        NaN          NaN         NaN            NaN   \n",
       "1588        NaN          NaN         NaN            NaN   \n",
       "\n",
       "                                            description epic_key epic_title  \\\n",
       "167   Implement the data ingest of the following dat...      NaN        NaN   \n",
       "168   The feed(s) need to be first stored in S3- agn...      NaN        NaN   \n",
       "169   Consume as is from S3 and unpack JSON (if in J...      NaN        NaN   \n",
       "170   Apply Datasource-agnostic transformations such...      NaN        NaN   \n",
       "171   Apply Datasource-specific transformations and ...      NaN        NaN   \n",
       "172    Build the presentation layer(s). These should...      NaN        NaN   \n",
       "173   Data should have been sanity-checked along the...      NaN        NaN   \n",
       "176   If all previous steps have been done, this sho...      NaN        NaN   \n",
       "226   A CMM machine learning app was developed as pa...      NaN        NaN   \n",
       "227   Instilled is the platform used for auditor tra...      NaN        NaN   \n",
       "229   +Background:+\\nThe Responsible Sourcing team h...      NaN        NaN   \n",
       "967                                                None      NaN        NaN   \n",
       "969   Observation:\\n\\nWhile the streams related to a...      NaN        NaN   \n",
       "1506  The sites table needs the addition of certain ...      NaN        NaN   \n",
       "1514  Please, add _MODIFIED_ON_DATE_ column to the {...      NaN        NaN   \n",
       "1588                                               None      NaN        NaN   \n",
       "\n",
       "     Strategy Macro Strand Strategy Micro Strand  \n",
       "167                    NaN                   NaN  \n",
       "168                    NaN                   NaN  \n",
       "169                    NaN                   NaN  \n",
       "170                    NaN                   NaN  \n",
       "171                    NaN                   NaN  \n",
       "172                    NaN                   NaN  \n",
       "173                    NaN                   NaN  \n",
       "176                    NaN                   NaN  \n",
       "226                    NaN                   NaN  \n",
       "227                    NaN                   NaN  \n",
       "229                    NaN                   NaN  \n",
       "967                    NaN                   NaN  \n",
       "969                    NaN                   NaN  \n",
       "1506                   NaN                   NaN  \n",
       "1514                   NaN                   NaN  \n",
       "1588                   NaN                   NaN  \n",
       "\n",
       "[16 rows x 24 columns]"
      ]
     },
     "execution_count": 39,
     "metadata": {},
     "output_type": "execute_result"
    }
   ],
   "source": [
    "# Show orphaned tickets\n",
    "df.loc[(df['Strategy Macro Strand'].isna())&(df['issuetype_name']!='Epic')]"
   ]
  },
  {
   "cell_type": "code",
   "execution_count": 40,
   "id": "493a45ff-a81f-42f3-891e-e802e66e9a8a",
   "metadata": {},
   "outputs": [],
   "source": [
    "#df.loc[df['key']=='DATA-1780']"
   ]
  },
  {
   "cell_type": "markdown",
   "id": "69738eb3-68e2-406b-8805-ced67c2d16bf",
   "metadata": {},
   "source": [
    "### Filter out orphans, and those \"no longer required\""
   ]
  },
  {
   "cell_type": "code",
   "execution_count": 41,
   "id": "07317f5d-b5db-49e9-8cdc-6b4b0c299260",
   "metadata": {
    "tags": []
   },
   "outputs": [],
   "source": [
    "df=df.loc[(df['Strategy Macro Strand'].notna())&(df['issuetype_name']!='Epic')&(df['status_name']!='No longer relevant')]\n",
    "# Epics are screened out by this ^^^"
   ]
  },
  {
   "cell_type": "code",
   "execution_count": 42,
   "id": "db88e9c7-93ab-4768-bbc2-db06d6f7f2ae",
   "metadata": {},
   "outputs": [],
   "source": [
    "\n",
    "def extract_dataset(title):\n",
    "\n",
    "    # End to end\n",
    "    if re.findall('(.*) End-to-end',title):\n",
    "        return re.findall('(.*) End-to-end',title)[0]\n",
    "    \n",
    "    # S3, Stage, Transform, Logic, Presentation\n",
    "    elif re.findall('(.*) \\(Build .*\\)',title):\n",
    "        return re.findall('(.*) \\(Build .*\\)',title)[0]\n",
    "    \n",
    "    # Reconciliation\n",
    "    elif re.findall('(.*) \\(Final counts reconciliation\\)',title):\n",
    "        return re.findall('(.*) \\(Final counts reconciliation\\)',title)[0]\n",
    "    \n",
    "df['Dataset']=df['title'].apply(extract_dataset)\n",
    "df['step_list']=df['labels'].apply(lambda x:[i for i in x if re.match('\\d{1,2}_.*',i)])\n",
    "df['Step']=df['step_list'].apply(lambda x:x[0] if len(x)>0 else None)\n"
   ]
  },
  {
   "cell_type": "markdown",
   "id": "aa84046b-0d8e-45f7-8f4d-8f50a9852a20",
   "metadata": {
    "tags": []
   },
   "source": [
    "# Get the JIRA board for Boonta Eve"
   ]
  },
  {
   "cell_type": "code",
   "execution_count": 43,
   "id": "0fed7f6e-f0f4-441c-a398-875ec6e1cf6a",
   "metadata": {
    "tags": []
   },
   "outputs": [],
   "source": [
    "# Get project and board\n",
    "be_proj,be_board=uj.myprojectAndBoard(jira,'Connect',170)\n",
    "\n",
    "# Get tickets\n",
    "be_tickets=uj.get_all_project_issues_uncapped(jira,be_proj['id'])\n",
    "\n",
    "# Summarise tickets (removing unused fields)\n",
    "be_tickets_succinct=uj.get_succint_ticket_list(be_tickets)"
   ]
  },
  {
   "cell_type": "markdown",
   "id": "f917a248-822c-499f-8562-d7761f4be72e",
   "metadata": {
    "tags": []
   },
   "source": [
    "### Map Epics to their Macro strategy strands"
   ]
  },
  {
   "cell_type": "code",
   "execution_count": 44,
   "id": "a01f0465-0818-4582-8110-9b0540709bc1",
   "metadata": {},
   "outputs": [],
   "source": [
    "be_board_epics,be_epic_name_list, be_epic_key_list,be_board_epic_key_lookup=uj.get_epics_only(be_tickets_succinct)"
   ]
  },
  {
   "cell_type": "code",
   "execution_count": 45,
   "id": "9eecc2db-1ec0-4bc5-9d53-c3c25bf0d4ec",
   "metadata": {
    "tags": []
   },
   "outputs": [
    {
     "name": "stdout",
     "output_type": "stream",
     "text": [
      "210\n"
     ]
    },
    {
     "data": {
      "text/html": [
       "<div>\n",
       "<style scoped>\n",
       "    .dataframe tbody tr th:only-of-type {\n",
       "        vertical-align: middle;\n",
       "    }\n",
       "\n",
       "    .dataframe tbody tr th {\n",
       "        vertical-align: top;\n",
       "    }\n",
       "\n",
       "    .dataframe thead th {\n",
       "        text-align: right;\n",
       "    }\n",
       "</style>\n",
       "<table border=\"1\" class=\"dataframe\">\n",
       "  <thead>\n",
       "    <tr style=\"text-align: right;\">\n",
       "      <th></th>\n",
       "      <th>key</th>\n",
       "      <th>epic_key</th>\n",
       "      <th>epic_title</th>\n",
       "    </tr>\n",
       "  </thead>\n",
       "  <tbody>\n",
       "    <tr>\n",
       "      <th>0</th>\n",
       "      <td>CN-71</td>\n",
       "      <td>CN-93</td>\n",
       "      <td>Logging and Monitoring for Connect</td>\n",
       "    </tr>\n",
       "    <tr>\n",
       "      <th>1</th>\n",
       "      <td>CN-90</td>\n",
       "      <td>CN-93</td>\n",
       "      <td>Logging and Monitoring for Connect</td>\n",
       "    </tr>\n",
       "    <tr>\n",
       "      <th>2</th>\n",
       "      <td>CN-91</td>\n",
       "      <td>CN-93</td>\n",
       "      <td>Logging and Monitoring for Connect</td>\n",
       "    </tr>\n",
       "    <tr>\n",
       "      <th>3</th>\n",
       "      <td>CN-92</td>\n",
       "      <td>CN-93</td>\n",
       "      <td>Logging and Monitoring for Connect</td>\n",
       "    </tr>\n",
       "    <tr>\n",
       "      <th>4</th>\n",
       "      <td>CN-95</td>\n",
       "      <td>CN-146</td>\n",
       "      <td>Invite MVP</td>\n",
       "    </tr>\n",
       "  </tbody>\n",
       "</table>\n",
       "</div>"
      ],
      "text/plain": [
       "     key epic_key                          epic_title\n",
       "0  CN-71    CN-93  Logging and Monitoring for Connect\n",
       "1  CN-90    CN-93  Logging and Monitoring for Connect\n",
       "2  CN-91    CN-93  Logging and Monitoring for Connect\n",
       "3  CN-92    CN-93  Logging and Monitoring for Connect\n",
       "4  CN-95   CN-146                          Invite MVP"
      ]
     },
     "execution_count": 45,
     "metadata": {},
     "output_type": "execute_result"
    }
   ],
   "source": [
    "# Get the lookup of what epic a card maps to, even if it is a nested subtask\n",
    "be_card_epic_df=uj.get_epic_of_nested_cards(be_tickets_succinct)\n",
    "be_card_epic_df.head()"
   ]
  },
  {
   "cell_type": "markdown",
   "id": "f36c38e6-202e-4d6f-9eaa-15eb5379f8ba",
   "metadata": {
    "tags": []
   },
   "source": [
    "### Create a data frame holding cards from Boonta Eve Board"
   ]
  },
  {
   "cell_type": "code",
   "execution_count": 46,
   "id": "92d474f4-8f9a-486f-a19c-48b07aebb52c",
   "metadata": {
    "tags": []
   },
   "outputs": [],
   "source": [
    "# Turn JIRA board into a df and match in the EPIC info\n",
    "be_df=pd.DataFrame(be_tickets_succinct).merge(be_card_epic_df,how='left',on='key') \n",
    "#be_df.head()"
   ]
  },
  {
   "cell_type": "code",
   "execution_count": 47,
   "id": "df73e8d8-d902-4a13-8444-833369b53497",
   "metadata": {
    "tags": []
   },
   "outputs": [
    {
     "name": "stdout",
     "output_type": "stream",
     "text": [
      "210\n"
     ]
    },
    {
     "data": {
      "text/html": [
       "<div>\n",
       "<style scoped>\n",
       "    .dataframe tbody tr th:only-of-type {\n",
       "        vertical-align: middle;\n",
       "    }\n",
       "\n",
       "    .dataframe tbody tr th {\n",
       "        vertical-align: top;\n",
       "    }\n",
       "\n",
       "    .dataframe thead th {\n",
       "        text-align: right;\n",
       "    }\n",
       "</style>\n",
       "<table border=\"1\" class=\"dataframe\">\n",
       "  <thead>\n",
       "    <tr style=\"text-align: right;\">\n",
       "      <th></th>\n",
       "      <th>key</th>\n",
       "      <th>epic_key</th>\n",
       "      <th>epic_title</th>\n",
       "    </tr>\n",
       "  </thead>\n",
       "  <tbody>\n",
       "    <tr>\n",
       "      <th>0</th>\n",
       "      <td>CN-71</td>\n",
       "      <td>CN-93</td>\n",
       "      <td>Logging and Monitoring for Connect</td>\n",
       "    </tr>\n",
       "    <tr>\n",
       "      <th>1</th>\n",
       "      <td>CN-90</td>\n",
       "      <td>CN-93</td>\n",
       "      <td>Logging and Monitoring for Connect</td>\n",
       "    </tr>\n",
       "    <tr>\n",
       "      <th>2</th>\n",
       "      <td>CN-91</td>\n",
       "      <td>CN-93</td>\n",
       "      <td>Logging and Monitoring for Connect</td>\n",
       "    </tr>\n",
       "    <tr>\n",
       "      <th>3</th>\n",
       "      <td>CN-92</td>\n",
       "      <td>CN-93</td>\n",
       "      <td>Logging and Monitoring for Connect</td>\n",
       "    </tr>\n",
       "    <tr>\n",
       "      <th>4</th>\n",
       "      <td>CN-95</td>\n",
       "      <td>CN-146</td>\n",
       "      <td>Invite MVP</td>\n",
       "    </tr>\n",
       "  </tbody>\n",
       "</table>\n",
       "</div>"
      ],
      "text/plain": [
       "     key epic_key                          epic_title\n",
       "0  CN-71    CN-93  Logging and Monitoring for Connect\n",
       "1  CN-90    CN-93  Logging and Monitoring for Connect\n",
       "2  CN-91    CN-93  Logging and Monitoring for Connect\n",
       "3  CN-92    CN-93  Logging and Monitoring for Connect\n",
       "4  CN-95   CN-146                          Invite MVP"
      ]
     },
     "execution_count": 47,
     "metadata": {},
     "output_type": "execute_result"
    }
   ],
   "source": [
    "# Get the lookup of what epic a card maps to, even if it is a nested subtask\n",
    "be_card_epic_df=uj.get_epic_of_nested_cards(be_tickets_succinct)\n",
    "be_card_epic_df.head()"
   ]
  },
  {
   "cell_type": "markdown",
   "id": "0c62d90c-b1dd-45a0-8224-cb1c0c6d4a10",
   "metadata": {
    "tags": []
   },
   "source": [
    "### Create a data frame holding cards from Boonta Eve Board"
   ]
  },
  {
   "cell_type": "code",
   "execution_count": 48,
   "id": "71bb3078-adb0-4c55-96a5-753906aa02f4",
   "metadata": {
    "tags": []
   },
   "outputs": [],
   "source": [
    "# Turn JIRA board into a df and match in the EPIC info\n",
    "be_df=pd.DataFrame(be_tickets_succinct).merge(be_card_epic_df,how='left',on='key') \n",
    "#be_df.head()"
   ]
  },
  {
   "cell_type": "code",
   "execution_count": 49,
   "id": "27a50c0f-925d-4f18-a7ad-fa48c6befc3b",
   "metadata": {},
   "outputs": [],
   "source": [
    "# A lot of stuff going on in Boonta Eve, grab the epics we care about. Manually assign their Roadmap items\n",
    "be_epics_of_note={'CN-1463':'Data Utilisation|New & Premium Reporting'\n",
    ",'CN-1600':'Data Utilisation|New & Premium Reporting'\n",
    ",'CN-1775':'Data Utilisation|Second & Third Party Data'\n",
    ",'CN-2227':'Data Utilisation|Customer API'\n",
    ",'CN-2424':'Keeping the Lights On|SQL Server Migration'\n",
    ",'CN-2495':'Data Utilisation|Second & Third Party Data'\n",
    ",'CN-2510':'Data Utilisation|Data in Connect'\n",
    ",'CN-2527':'Keeping the Lights On|Report Migration'\n",
    ",'CN-2489':'Keeping the Lights On|Report Migration'\n",
    ",'CN-2521':'Data Utilisation|Second & Third Party Data'\n",
    ",'CN-2581':'Keeping the Lights On|Report Migration'\n",
    "                 ,'CN-2917':'Keeping the Lights On|Report Migration'\n",
    "                 }\n",
    "\n",
    "\n",
    "# Filter to just these epics\n",
    "be_df=be_df.loc[be_df['epic_key'].isin(be_epics_of_note.keys())]\n",
    "\n",
    "# Map Strategy Macro/Micro Strand using manually mapping\n",
    "be_df['Strategy Macro Strand']=be_df['epic_key'].apply(lambda x: be_epics_of_note[x].split('|')[0])\n",
    "be_df['Strategy Micro Strand']=be_df['epic_key'].apply(lambda x: be_epics_of_note[x].split('|')[1])"
   ]
  },
  {
   "cell_type": "markdown",
   "id": "e4c68a9f-a824-473b-b713-1e9857c0962e",
   "metadata": {
    "tags": []
   },
   "source": [
    "# Get the JIRA board for Internal Analytics"
   ]
  },
  {
   "cell_type": "code",
   "execution_count": 50,
   "id": "a8fba3b8-82d0-402c-a7c5-ff5f9ce3f759",
   "metadata": {
    "tags": []
   },
   "outputs": [],
   "source": [
    "# Get project and board\n",
    "ia_proj,ia_board=uj.myprojectAndBoard(jira,'Internal Analytics',215)\n",
    "\n",
    "# Get tickets\n",
    "ia_tickets=uj.get_all_project_issues_uncapped(jira,ia_proj['id'])\n",
    "\n",
    "# Summarise tickets (removing unused fields)\n",
    "ia_tickets_succinct=uj.get_succint_ticket_list(ia_tickets)"
   ]
  },
  {
   "cell_type": "markdown",
   "id": "3f584778-060a-4d31-930e-18d7e91fc571",
   "metadata": {
    "tags": []
   },
   "source": [
    "## Map Epics to their Macro strategy strands"
   ]
  },
  {
   "cell_type": "code",
   "execution_count": 51,
   "id": "8ad6bd8e-42b3-460e-bdd8-93ba8e78cae3",
   "metadata": {},
   "outputs": [],
   "source": [
    "ia_board_epics,ia_epic_name_list, ia_epic_key_list,ia_board_epic_key_lookup=uj.get_epics_only(ia_tickets_succinct)"
   ]
  },
  {
   "cell_type": "code",
   "execution_count": 52,
   "id": "859f525e-0266-4b68-a205-dc303d20be89",
   "metadata": {
    "tags": []
   },
   "outputs": [
    {
     "data": {
      "text/plain": [
       "['Thoughtspot Launch',\n",
       " 'Thoughtspot Ongoing Improvements',\n",
       " 'Self-serve tool procurement',\n",
       " 'Ad-hoc support']"
      ]
     },
     "execution_count": 52,
     "metadata": {},
     "output_type": "execute_result"
    }
   ],
   "source": [
    "ia_epic_name_list"
   ]
  },
  {
   "cell_type": "code",
   "execution_count": 53,
   "id": "9695c997-8377-43cf-81d0-a6620f4da037",
   "metadata": {
    "tags": []
   },
   "outputs": [
    {
     "name": "stdout",
     "output_type": "stream",
     "text": [
      "24\n"
     ]
    }
   ],
   "source": [
    "# Get the lookup of what epic a card maps to, even if it is a nested subtask\n",
    "ia_card_epic_df=uj.get_epic_of_nested_cards(ia_tickets_succinct)"
   ]
  },
  {
   "cell_type": "markdown",
   "id": "dd18c3bd-51b4-48e1-bd1a-edb044365ba2",
   "metadata": {},
   "source": [
    "# Create a data frame holding cards from Internal Analytics Board"
   ]
  },
  {
   "cell_type": "code",
   "execution_count": 54,
   "id": "09ef9ad5-224d-47c2-a2a3-98c163f90fc0",
   "metadata": {
    "tags": []
   },
   "outputs": [],
   "source": [
    "# Turn JIRA board into a df and match in the EPIC info\n",
    "ia_df=pd.DataFrame(ia_tickets_succinct).merge(ia_card_epic_df,how='left',on='key') \n"
   ]
  },
  {
   "cell_type": "code",
   "execution_count": 55,
   "id": "ab93d150-efca-4c2e-9023-7acfc59c26d3",
   "metadata": {},
   "outputs": [
    {
     "data": {
      "text/html": [
       "<div>\n",
       "<style scoped>\n",
       "    .dataframe tbody tr th:only-of-type {\n",
       "        vertical-align: middle;\n",
       "    }\n",
       "\n",
       "    .dataframe tbody tr th {\n",
       "        vertical-align: top;\n",
       "    }\n",
       "\n",
       "    .dataframe thead th {\n",
       "        text-align: right;\n",
       "    }\n",
       "</style>\n",
       "<table border=\"1\" class=\"dataframe\">\n",
       "  <thead>\n",
       "    <tr style=\"text-align: right;\">\n",
       "      <th></th>\n",
       "      <th>key</th>\n",
       "      <th>title</th>\n",
       "    </tr>\n",
       "  </thead>\n",
       "  <tbody>\n",
       "    <tr>\n",
       "      <th>37</th>\n",
       "      <td>IA-40</td>\n",
       "      <td>Thoughtspot Launch</td>\n",
       "    </tr>\n",
       "    <tr>\n",
       "      <th>64</th>\n",
       "      <td>IA-68</td>\n",
       "      <td>Thoughtspot Ongoing Improvements</td>\n",
       "    </tr>\n",
       "    <tr>\n",
       "      <th>66</th>\n",
       "      <td>IA-70</td>\n",
       "      <td>Self-serve tool procurement</td>\n",
       "    </tr>\n",
       "    <tr>\n",
       "      <th>79</th>\n",
       "      <td>IA-83</td>\n",
       "      <td>Ad-hoc support</td>\n",
       "    </tr>\n",
       "    <tr>\n",
       "      <th>92</th>\n",
       "      <td>IA-96</td>\n",
       "      <td>Snowflake reporting in ThoughtSpot</td>\n",
       "    </tr>\n",
       "    <tr>\n",
       "      <th>93</th>\n",
       "      <td>IA-97</td>\n",
       "      <td>Snowflake SpotApp</td>\n",
       "    </tr>\n",
       "  </tbody>\n",
       "</table>\n",
       "</div>"
      ],
      "text/plain": [
       "      key                               title\n",
       "37  IA-40                  Thoughtspot Launch\n",
       "64  IA-68    Thoughtspot Ongoing Improvements\n",
       "66  IA-70         Self-serve tool procurement\n",
       "79  IA-83                      Ad-hoc support\n",
       "92  IA-96  Snowflake reporting in ThoughtSpot\n",
       "93  IA-97                  Snowflake SpotApp "
      ]
     },
     "execution_count": 55,
     "metadata": {},
     "output_type": "execute_result"
    }
   ],
   "source": [
    "ia_df.loc[ia_df['epic_key'].isna(),['key','title']]"
   ]
  },
  {
   "cell_type": "code",
   "execution_count": 56,
   "id": "60e0423f-5433-4315-80b8-7d2f99383cd5",
   "metadata": {
    "tags": []
   },
   "outputs": [],
   "source": [
    "# Fill in any tickets without an EPIC as \"Ad hoc\"\n",
    "# for i in ia_df.loc[(ia_df['epic_key'].isna())&~(ia_df['issuetype_name'].isin(['Epic','Subtask'])),['key','title']].to_dict(orient='records')[1:]:\n",
    "#     print(i['key'])\n",
    "#     jira.update_issue_field(i['key'], fields={'parent':{'key':'IA-83'}})\n"
   ]
  },
  {
   "cell_type": "code",
   "execution_count": 57,
   "id": "dda3590d-dd63-4f8c-9483-8aabcfe67b1b",
   "metadata": {},
   "outputs": [],
   "source": [
    "\n",
    "# Then derive the macro strand that a ticket belongs to\n",
    "ia_df['Strategy Macro Strand']='Data Utilisation'\n",
    "\n",
    "# Derive micro strand as epic name for tickets under an epic\n",
    "ia_df.loc[ia_df['epic_key'].notna(),'Strategy Micro Strand']=ia_df.loc[ia_df['epic_key'].notna(),'epic_title'].apply(lambda x: 'Self-serve' if re.findall('(?:Thoughtspot)|(?:Self-serve)',x) else x)\n",
    "\n",
    "# For epics themselves, micro strategy name is their epic\n",
    "ia_df.loc[ia_df['epic_key'].isna(),'Strategy Micro Strand']=ia_df.loc[ia_df['issuetype_name']=='Epic','title'].apply(lambda x: 'Self-serve' if re.findall('(?:Thoughtspot)|(?:Self-serve)',x) else x)\n",
    "\n"
   ]
  },
  {
   "cell_type": "code",
   "execution_count": 58,
   "id": "4e1b552a-e1a6-4e28-a0ce-1b92818faf7b",
   "metadata": {},
   "outputs": [
    {
     "data": {
      "text/html": [
       "<div>\n",
       "<style scoped>\n",
       "    .dataframe tbody tr th:only-of-type {\n",
       "        vertical-align: middle;\n",
       "    }\n",
       "\n",
       "    .dataframe tbody tr th {\n",
       "        vertical-align: top;\n",
       "    }\n",
       "\n",
       "    .dataframe thead th {\n",
       "        text-align: right;\n",
       "    }\n",
       "</style>\n",
       "<table border=\"1\" class=\"dataframe\">\n",
       "  <thead>\n",
       "    <tr style=\"text-align: right;\">\n",
       "      <th></th>\n",
       "      <th>Strategy Micro Strand</th>\n",
       "      <th>epic_title</th>\n",
       "    </tr>\n",
       "  </thead>\n",
       "  <tbody>\n",
       "    <tr>\n",
       "      <th>0</th>\n",
       "      <td>Ad-hoc support</td>\n",
       "      <td>Ad-hoc support</td>\n",
       "    </tr>\n",
       "    <tr>\n",
       "      <th>24</th>\n",
       "      <td>Self-serve</td>\n",
       "      <td>Thoughtspot Launch</td>\n",
       "    </tr>\n",
       "    <tr>\n",
       "      <th>26</th>\n",
       "      <td>Self-serve</td>\n",
       "      <td>Thoughtspot Ongoing Improvements</td>\n",
       "    </tr>\n",
       "    <tr>\n",
       "      <th>37</th>\n",
       "      <td>Self-serve</td>\n",
       "      <td>NaN</td>\n",
       "    </tr>\n",
       "    <tr>\n",
       "      <th>65</th>\n",
       "      <td>Self-serve</td>\n",
       "      <td>Self-serve tool procurement</td>\n",
       "    </tr>\n",
       "    <tr>\n",
       "      <th>79</th>\n",
       "      <td>Ad-hoc support</td>\n",
       "      <td>NaN</td>\n",
       "    </tr>\n",
       "    <tr>\n",
       "      <th>92</th>\n",
       "      <td>NaN</td>\n",
       "      <td>NaN</td>\n",
       "    </tr>\n",
       "  </tbody>\n",
       "</table>\n",
       "</div>"
      ],
      "text/plain": [
       "   Strategy Micro Strand                        epic_title\n",
       "0         Ad-hoc support                    Ad-hoc support\n",
       "24            Self-serve                Thoughtspot Launch\n",
       "26            Self-serve  Thoughtspot Ongoing Improvements\n",
       "37            Self-serve                               NaN\n",
       "65            Self-serve       Self-serve tool procurement\n",
       "79        Ad-hoc support                               NaN\n",
       "92                   NaN                               NaN"
      ]
     },
     "execution_count": 58,
     "metadata": {},
     "output_type": "execute_result"
    }
   ],
   "source": [
    "ia_df[['Strategy Micro Strand','epic_title']].drop_duplicates()"
   ]
  },
  {
   "cell_type": "code",
   "execution_count": 59,
   "id": "825d9b8c-d793-4cce-ae56-953a3aa219ec",
   "metadata": {},
   "outputs": [],
   "source": [
    "# Filter out orphans\n",
    "ia_df=ia_df.loc[(ia_df['Strategy Micro Strand'].notna())&(ia_df['status_name']!='No longer relevant')]\n"
   ]
  },
  {
   "cell_type": "code",
   "execution_count": null,
   "id": "7de23fc4-1f67-4ba6-9425-b5e16b8f3a98",
   "metadata": {},
   "outputs": [],
   "source": []
  },
  {
   "cell_type": "markdown",
   "id": "4d4d2eb0-3331-4492-8812-df730c0329ac",
   "metadata": {},
   "source": [
    "# Merge IA, Boonta Eve & Data Platform"
   ]
  },
  {
   "cell_type": "code",
   "execution_count": 60,
   "id": "e40dddcf-c1e0-4014-a051-3d1e6ebee39d",
   "metadata": {},
   "outputs": [
    {
     "name": "stdout",
     "output_type": "stream",
     "text": [
      "1540 + 99 + 388\n",
      "2027\n"
     ]
    }
   ],
   "source": [
    "# Merge dfs\n",
    "print(len(df),'+',len(ia_df),'+',len(be_df))\n",
    "rdmp_df=pd.concat([df,ia_df,be_df])\n",
    "print(len(rdmp_df))\n",
    "\n",
    "# Merge lists\n",
    "rdmp_tickets_succinct=mytickets_succinct+ia_tickets_succinct+be_tickets_succinct\n",
    "rdmp_tickets=mytickets+ia_tickets+be_tickets"
   ]
  },
  {
   "cell_type": "code",
   "execution_count": 61,
   "id": "0d6bcbc8-a227-49ff-9816-41b065047460",
   "metadata": {},
   "outputs": [],
   "source": [
    "pickle.dump((rdmp_tickets,rdmp_tickets_succinct,rdmp_df), open(f\"3-Jira_DataRoadmapCards.pickle\", \"wb\" ) )"
   ]
  },
  {
   "cell_type": "code",
   "execution_count": 62,
   "id": "8c76eaa9-b631-4f5c-b4fb-6241900222e7",
   "metadata": {},
   "outputs": [
    {
     "name": "stdout",
     "output_type": "stream",
     "text": [
      "Run and Saved!\n"
     ]
    }
   ],
   "source": [
    "print('Run and Saved!')"
   ]
  },
  {
   "cell_type": "code",
   "execution_count": null,
   "id": "af179b83-2b95-4f5e-8d70-88015bfec308",
   "metadata": {
    "tags": []
   },
   "outputs": [],
   "source": []
  },
  {
   "cell_type": "code",
   "execution_count": null,
   "id": "9c97e4a5-52c6-4afd-8cd7-57ea827b8285",
   "metadata": {},
   "outputs": [],
   "source": []
  }
 ],
 "metadata": {
  "kernelspec": {
   "display_name": "kernel_for_atlassian",
   "language": "python",
   "name": "read_bitbucket"
  },
  "language_info": {
   "codemirror_mode": {
    "name": "ipython",
    "version": 3
   },
   "file_extension": ".py",
   "mimetype": "text/x-python",
   "name": "python",
   "nbconvert_exporter": "python",
   "pygments_lexer": "ipython3",
   "version": "3.9.7"
  }
 },
 "nbformat": 4,
 "nbformat_minor": 5
}
