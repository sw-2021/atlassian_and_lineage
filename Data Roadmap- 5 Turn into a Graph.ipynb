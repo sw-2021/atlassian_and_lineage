{
 "cells": [
  {
   "cell_type": "markdown",
   "id": "8a9d8413-6e1b-4ab6-a6de-faaf97b2fe8e",
   "metadata": {},
   "source": [
    "# Turn the Jira cards constituting the Data Roadmap into a Network Graph\n",
    "Run \"Data Roadmap 4 Create Unified List of Jira Cards\" first to get the latest view\n",
    "\n",
    "Should just be able to hit \"Run all\""
   ]
  },
  {
   "cell_type": "code",
   "execution_count": 14,
   "id": "821c62d0-5b10-4f87-9444-f10c697fec56",
   "metadata": {},
   "outputs": [],
   "source": [
    "import pandas as pd\n",
    "import json\n",
    "\n",
    "pd.options.display.max_rows = 999\n",
    "import numpy as np\n",
    "import re\n",
    "import pickle\n",
    "from atlassian import Jira\n",
    "\n",
    "import networkx as nx\n",
    "import plotly.graph_objects as go\n",
    "from plotly.validators.scatter.marker import SymbolValidator\n",
    "from pyvis.network import Network \n",
    "import pyvis.options as pyvis_options\n",
    "\n",
    "\n",
    "with open(r'C:\\Users\\steve.waterman\\Python\\creds\\Jira', 'rb') as handle:\n",
    "    mycon = pickle.load(handle)\n",
    "exec(f'jira = Jira({mycon})')\n",
    "from pprint import pprint\n",
    "\n",
    "import sys\n",
    "sys.path.append(r'C:\\Users\\steve.waterman\\Python\\read_bitbucket')\n",
    "import lineage_vis as lv\n",
    "import Useful_Jira as uj"
   ]
  },
  {
   "cell_type": "code",
   "execution_count": 15,
   "id": "a447834d-5af0-4e2c-a05f-b87f07ace034",
   "metadata": {},
   "outputs": [],
   "source": [
    "rdmp_tickets,rdmp_tickets_succinct,rdmp_df=pickle.load(open(f\"3-Jira_DataRoadmapCards.pickle\", \"rb\" ) )"
   ]
  },
  {
   "cell_type": "markdown",
   "id": "59a47b81-be13-41e3-806e-fc0aa623c5e5",
   "metadata": {},
   "source": [
    "# CREATE EDGES\n",
    "1) Using relationships\n",
    "2) For subtasks, linking them to the parent "
   ]
  },
  {
   "cell_type": "code",
   "execution_count": 16,
   "id": "fed82b61-6302-4abb-96d0-3df96aed94ad",
   "metadata": {},
   "outputs": [
    {
     "data": {
      "text/plain": [
       "('CN-2606', 'CN-2684')"
      ]
     },
     "execution_count": 16,
     "metadata": {},
     "output_type": "execute_result"
    }
   ],
   "source": [
    "all_edges=uj.jira_linked_issues_as_edges(rdmp_tickets,rdmp_tickets_succinct,ticket_keys=list(rdmp_df['key'].unique()))\n",
    "all_edges[0]"
   ]
  },
  {
   "cell_type": "markdown",
   "id": "62812a18-6c3d-40bd-94f2-cfa202dfc54b",
   "metadata": {},
   "source": [
    "# Now make into a graph, or graphs for each substream"
   ]
  },
  {
   "cell_type": "markdown",
   "id": "fa31753e-2e34-4296-87ce-3df2f844f4da",
   "metadata": {},
   "source": [
    "### Node formatting"
   ]
  },
  {
   "cell_type": "code",
   "execution_count": 17,
   "id": "83b7f10d-dc98-4582-97c7-7f62f1c3c374",
   "metadata": {
    "tags": []
   },
   "outputs": [
    {
     "data": {
      "text/html": [
       "<div>\n",
       "<style scoped>\n",
       "    .dataframe tbody tr th:only-of-type {\n",
       "        vertical-align: middle;\n",
       "    }\n",
       "\n",
       "    .dataframe tbody tr th {\n",
       "        vertical-align: top;\n",
       "    }\n",
       "\n",
       "    .dataframe thead th {\n",
       "        text-align: right;\n",
       "    }\n",
       "</style>\n",
       "<table border=\"1\" class=\"dataframe\">\n",
       "  <thead>\n",
       "    <tr style=\"text-align: right;\">\n",
       "      <th></th>\n",
       "      <th>id</th>\n",
       "      <th>key</th>\n",
       "      <th>title</th>\n",
       "      <th>assignee_name</th>\n",
       "      <th>status_name</th>\n",
       "      <th>status_id</th>\n",
       "      <th>issuetype_name</th>\n",
       "      <th>issuetype_id</th>\n",
       "      <th>project_id</th>\n",
       "      <th>project_key</th>\n",
       "      <th>...</th>\n",
       "      <th>Dataset</th>\n",
       "      <th>step_list</th>\n",
       "      <th>Step</th>\n",
       "      <th>name</th>\n",
       "      <th>color</th>\n",
       "      <th>shape</th>\n",
       "      <th>size</th>\n",
       "      <th>y_band</th>\n",
       "      <th>label</th>\n",
       "      <th>text</th>\n",
       "    </tr>\n",
       "  </thead>\n",
       "  <tbody>\n",
       "    <tr>\n",
       "      <th>0</th>\n",
       "      <td>62222</td>\n",
       "      <td>DATA-2</td>\n",
       "      <td>Sort out dupes in transform.org_trading_rels</td>\n",
       "      <td>{'self': 'https://sedexsolutions.atlassian.net...</td>\n",
       "      <td>To Do</td>\n",
       "      <td>12057</td>\n",
       "      <td>Story</td>\n",
       "      <td>10587</td>\n",
       "      <td>12757</td>\n",
       "      <td>DATA</td>\n",
       "      <td>...</td>\n",
       "      <td>None</td>\n",
       "      <td>[]</td>\n",
       "      <td>None</td>\n",
       "      <td>DATA-2</td>\n",
       "      <td>#d50045</td>\n",
       "      <td>box</td>\n",
       "      <td>3</td>\n",
       "      <td>General</td>\n",
       "      <td>Sort out dupes in transform.org_trading_rels</td>\n",
       "      <td>Sort out dupes in transform.org_trading_rels  ...</td>\n",
       "    </tr>\n",
       "    <tr>\n",
       "      <th>1</th>\n",
       "      <td>62004</td>\n",
       "      <td>DATA-4</td>\n",
       "      <td>Develop all Postgress Feeds from kafka</td>\n",
       "      <td>{'self': 'https://sedexsolutions.atlassian.net...</td>\n",
       "      <td>Done</td>\n",
       "      <td>12059</td>\n",
       "      <td>Story</td>\n",
       "      <td>10587</td>\n",
       "      <td>12757</td>\n",
       "      <td>DATA</td>\n",
       "      <td>...</td>\n",
       "      <td>None</td>\n",
       "      <td>[]</td>\n",
       "      <td>None</td>\n",
       "      <td>DATA-4</td>\n",
       "      <td>#009590</td>\n",
       "      <td>box</td>\n",
       "      <td>3</td>\n",
       "      <td>General</td>\n",
       "      <td>Develop all Postgress Feeds from kafka</td>\n",
       "      <td>Develop all Postgress Feeds from kafka (DATA-4...</td>\n",
       "    </tr>\n",
       "    <tr>\n",
       "      <th>2</th>\n",
       "      <td>62784</td>\n",
       "      <td>DATA-5</td>\n",
       "      <td>change snowflake zero copy clone naming conven...</td>\n",
       "      <td>{'self': 'https://sedexsolutions.atlassian.net...</td>\n",
       "      <td>Done</td>\n",
       "      <td>12059</td>\n",
       "      <td>Story</td>\n",
       "      <td>10587</td>\n",
       "      <td>12757</td>\n",
       "      <td>DATA</td>\n",
       "      <td>...</td>\n",
       "      <td>None</td>\n",
       "      <td>[]</td>\n",
       "      <td>None</td>\n",
       "      <td>DATA-5</td>\n",
       "      <td>#009590</td>\n",
       "      <td>box</td>\n",
       "      <td>3</td>\n",
       "      <td>General Tasks</td>\n",
       "      <td>change snowflake zero copy clone naming conven...</td>\n",
       "      <td>change snowflake zero copy clone naming conven...</td>\n",
       "    </tr>\n",
       "    <tr>\n",
       "      <th>3</th>\n",
       "      <td>62005</td>\n",
       "      <td>DATA-7</td>\n",
       "      <td>Deploy all feeds into production once feeds live</td>\n",
       "      <td>{'self': 'https://sedexsolutions.atlassian.net...</td>\n",
       "      <td>Done</td>\n",
       "      <td>12059</td>\n",
       "      <td>Story</td>\n",
       "      <td>10587</td>\n",
       "      <td>12757</td>\n",
       "      <td>DATA</td>\n",
       "      <td>...</td>\n",
       "      <td>None</td>\n",
       "      <td>[]</td>\n",
       "      <td>None</td>\n",
       "      <td>DATA-7</td>\n",
       "      <td>#009590</td>\n",
       "      <td>box</td>\n",
       "      <td>3</td>\n",
       "      <td>General</td>\n",
       "      <td>Deploy all feeds into production once feeds live</td>\n",
       "      <td>Deploy all feeds into production once feeds li...</td>\n",
       "    </tr>\n",
       "    <tr>\n",
       "      <th>4</th>\n",
       "      <td>62319</td>\n",
       "      <td>DATA-8</td>\n",
       "      <td>Create view to identify test data</td>\n",
       "      <td>None</td>\n",
       "      <td>To Do</td>\n",
       "      <td>12057</td>\n",
       "      <td>Story</td>\n",
       "      <td>10587</td>\n",
       "      <td>12757</td>\n",
       "      <td>DATA</td>\n",
       "      <td>...</td>\n",
       "      <td>None</td>\n",
       "      <td>[]</td>\n",
       "      <td>None</td>\n",
       "      <td>DATA-8</td>\n",
       "      <td>#d50045</td>\n",
       "      <td>box</td>\n",
       "      <td>3</td>\n",
       "      <td>user-management Domain</td>\n",
       "      <td>Create view to identify test data</td>\n",
       "      <td>Create view to identify test data (DATA-8)&lt;br&gt;...</td>\n",
       "    </tr>\n",
       "  </tbody>\n",
       "</table>\n",
       "<p>5 rows × 34 columns</p>\n",
       "</div>"
      ],
      "text/plain": [
       "      id     key                                              title  \\\n",
       "0  62222  DATA-2      Sort out dupes in transform.org_trading_rels    \n",
       "1  62004  DATA-4             Develop all Postgress Feeds from kafka   \n",
       "2  62784  DATA-5  change snowflake zero copy clone naming conven...   \n",
       "3  62005  DATA-7   Deploy all feeds into production once feeds live   \n",
       "4  62319  DATA-8                  Create view to identify test data   \n",
       "\n",
       "                                       assignee_name status_name status_id  \\\n",
       "0  {'self': 'https://sedexsolutions.atlassian.net...       To Do     12057   \n",
       "1  {'self': 'https://sedexsolutions.atlassian.net...        Done     12059   \n",
       "2  {'self': 'https://sedexsolutions.atlassian.net...        Done     12059   \n",
       "3  {'self': 'https://sedexsolutions.atlassian.net...        Done     12059   \n",
       "4                                               None       To Do     12057   \n",
       "\n",
       "  issuetype_name issuetype_id project_id project_key  ... Dataset step_list  \\\n",
       "0          Story        10587      12757        DATA  ...    None        []   \n",
       "1          Story        10587      12757        DATA  ...    None        []   \n",
       "2          Story        10587      12757        DATA  ...    None        []   \n",
       "3          Story        10587      12757        DATA  ...    None        []   \n",
       "4          Story        10587      12757        DATA  ...    None        []   \n",
       "\n",
       "   Step    name    color shape size                  y_band  \\\n",
       "0  None  DATA-2  #d50045   box    3                 General   \n",
       "1  None  DATA-4  #009590   box    3                 General   \n",
       "2  None  DATA-5  #009590   box    3           General Tasks   \n",
       "3  None  DATA-7  #009590   box    3                 General   \n",
       "4  None  DATA-8  #d50045   box    3  user-management Domain   \n",
       "\n",
       "                                               label  \\\n",
       "0      Sort out dupes in transform.org_trading_rels    \n",
       "1             Develop all Postgress Feeds from kafka   \n",
       "2  change snowflake zero copy clone naming conven...   \n",
       "3   Deploy all feeds into production once feeds live   \n",
       "4                  Create view to identify test data   \n",
       "\n",
       "                                                text  \n",
       "0  Sort out dupes in transform.org_trading_rels  ...  \n",
       "1  Develop all Postgress Feeds from kafka (DATA-4...  \n",
       "2  change snowflake zero copy clone naming conven...  \n",
       "3  Deploy all feeds into production once feeds li...  \n",
       "4  Create view to identify test data (DATA-8)<br>...  \n",
       "\n",
       "[5 rows x 34 columns]"
      ]
     },
     "execution_count": 17,
     "metadata": {},
     "output_type": "execute_result"
    }
   ],
   "source": [
    "# Create node DF\n",
    "node_df=rdmp_df.copy()\n",
    "\n",
    "# Name\n",
    "node_df['name']=node_df['key']\n",
    "\n",
    "#Colour\n",
    "#colour_status={'To Do':'Red','Done':'Green','In Progress':'Orange','Paused':'Orange', 'Completed':'Green'}\n",
    "colour_status={'To Do':'#d50045'\n",
    "               ,'To do (imminent)':'#d50045'\n",
    "               ,'Paused / Waiting signoff':'#354670'\n",
    "               ,'Paused':'#354670'\n",
    "               ,'In Progress':'#354670'\n",
    "               ,'On hold':'#354670'\n",
    "               ,'Under Review':'#354670'\n",
    "               ,'Paused / Waiting signoff':'#354670' \n",
    "               ,'Exploration - Done':'#354670'\n",
    "               ,'Exploration - Ready for Dev':'#354670'\n",
    "               ,'Exploration - Ready for Refinement':'#354670'\n",
    "               ,'Exploration - In Progress':'#354670'\n",
    "               ,'Dev - Review':'#354670'\n",
    "               ,'Dev - In Progress':'#354670'\n",
    "               ,'Dev - Ready for Release':'#354670'\n",
    "               ,'Done':'#009590'\n",
    "               ,'No longer relevant':'#005251'\n",
    "               ,'Completed':'#009590'\n",
    "              ,'Dev - Done (Deployed)':'#009590'}\n",
    "node_df['color']=node_df['status_name'].apply(lambda x:colour_status[x])\n",
    "\n",
    "# Shape\n",
    "#node_df['shape']=node_df['Assigned Function'].apply(lambda x:ShapeLookup[x])\n",
    "node_df['labels']=node_df['labels'].apply(lambda x: x if isinstance(x,list) else [])\n",
    "node_df['shape']=node_df.apply(lambda row: 'ellipse' if 'Milestone' in row['labels'] else 'box',axis=1)\n",
    "\n",
    "# Size\n",
    "node_df['size']=3\n",
    "\n",
    "# y-band\n",
    "node_df['y_band']=node_df['Strategy Micro Strand']\n",
    "\n",
    "# node label\n",
    "node_df['label']=node_df['title']\n",
    "\n",
    "# hovertext\n",
    "node_df['text']=node_df.apply(lambda row: row['title']+' ('+row['key']+')<br>'+'Status: '+row['status_name']+'<br>'+str(row['description']),axis=1)\n",
    "node_df.head()\n"
   ]
  },
  {
   "cell_type": "markdown",
   "id": "d980457d-7513-4ea8-a83e-2f398b02165d",
   "metadata": {},
   "source": [
    "## Create edge object"
   ]
  },
  {
   "cell_type": "code",
   "execution_count": 18,
   "id": "bf424165-ca58-41c7-8735-08de7c057431",
   "metadata": {},
   "outputs": [],
   "source": [
    "edge_df=pd.DataFrame(all_edges,columns=['From','To'])\n"
   ]
  },
  {
   "cell_type": "markdown",
   "id": "bf382f0d-65a0-49db-a187-878adec7b7dc",
   "metadata": {},
   "source": [
    "## Create graph object"
   ]
  },
  {
   "cell_type": "code",
   "execution_count": 19,
   "id": "6ffabdef-12f3-4435-809c-0553586e0e0d",
   "metadata": {},
   "outputs": [
    {
     "name": "stdout",
     "output_type": "stream",
     "text": [
      "0\n",
      "2027\n",
      "2027 nodes in graph and 2027 nodes in node_df\n",
      "We have a directed acyclic graph - continue\n"
     ]
    }
   ],
   "source": [
    "# Create graph\n",
    "G=nx.DiGraph()\n",
    "\n",
    "print(len(G.nodes))\n",
    "G.add_nodes_from(node_df['name'])\n",
    "\n",
    "print(len(G.nodes))\n",
    "G.add_edges_from([(i[0],i[1]) for i in all_edges])\n",
    "\n",
    "print(f'{len(G.nodes)} nodes in graph and {len(node_df)} nodes in node_df')\n",
    "if len(G.nodes)!=len(node_df):\n",
    "    print(list(set(list(G.nodes)) - set(list(node_df['name']))))\n",
    "\n",
    "lv.check_is_DAG(G)"
   ]
  },
  {
   "cell_type": "markdown",
   "id": "0ad8c32e-40b1-465b-b24c-6391717d3fce",
   "metadata": {},
   "source": [
    "# Check and format for visualisation"
   ]
  },
  {
   "cell_type": "code",
   "execution_count": 20,
   "id": "77f45c3c-8f85-494c-b54f-63f338357cbe",
   "metadata": {},
   "outputs": [],
   "source": [
    "for i in G.nodes():\n",
    "    if i not in list(node_df['name']):\n",
    "        print(i)"
   ]
  },
  {
   "cell_type": "code",
   "execution_count": 21,
   "id": "63987bd0-d14e-4d1d-b99c-32d67e1b7f77",
   "metadata": {},
   "outputs": [],
   "source": [
    "for i in list(node_df['name']):\n",
    "    if i not in G.nodes():\n",
    "        print(i)"
   ]
  },
  {
   "cell_type": "code",
   "execution_count": 22,
   "id": "b675b586-872e-4ee7-a35a-d6463907933c",
   "metadata": {},
   "outputs": [
    {
     "name": "stdout",
     "output_type": "stream",
     "text": [
      "2027\n",
      "2027\n"
     ]
    }
   ],
   "source": [
    "print(len(node_df))\n",
    "print(len(node_df['name'].drop_duplicates()))"
   ]
  },
  {
   "cell_type": "markdown",
   "id": "5b8cb60c-eac0-43b4-bb66-90bc91518f34",
   "metadata": {},
   "source": [
    "## Size based on interconnectivity"
   ]
  },
  {
   "cell_type": "code",
   "execution_count": 23,
   "id": "1706054d-b267-44cd-8d83-98e45a5df920",
   "metadata": {},
   "outputs": [
    {
     "name": "stdout",
     "output_type": "stream",
     "text": [
      "After getting some node attributes, node_df is 2027 long\n",
      "Warning: there is no image URL field. Pyvis layouts needing images will fail\n",
      "No colour field specified in edge_df. Default value of \"grey\" will be used.\n",
      "              Please pass a field called \"size\" to manage\n",
      "No size/line weight field specified in edge_df. Default value of \"1\" will be used.\n",
      "              Please pass a field called \"size\" to manage\n",
      "No text field specified in edge_df to annotate edges. Default value of \"\" will be used.\n",
      "              Please pass a field called \"size\" to manage\n",
      "No label field passed to edge_df. It will be blank by default\n",
      "2027\n"
     ]
    }
   ],
   "source": [
    "node_df=lv.vis1_graphDescriptiveStats(node_df,G,showtiming=False)\n",
    "#node_df['size']=node_df['degree_centrality'].apply(lambda x: np.log(x*1000)**2+1 if x>0 else 1) # Scale size relative to node importance\n",
    "\n",
    "node_df['all_dependents']=node_df['name'].apply(lambda x: list(nx.descendants(G,x))) # Scale size relative to node importance\n",
    "node_df['all_ancestors']=node_df['name'].apply(lambda x: list(nx.ancestors(G,x)))\n",
    "node_df['size']=node_df['all_dependents'].apply(lambda x: np.log(len(x))+3 if len(x)>0 else 3) # Scale size relative to number of successors\n",
    "\n",
    "\n",
    "######################################################################\n",
    "# VALIDATE & fill in blanks\n",
    "######################################################################\n",
    "node_df,edge_df=lv.vis2_validate_dfs(node_df,G,edge_df,showtiming=False)\n",
    "print(len(node_df))"
   ]
  },
  {
   "cell_type": "markdown",
   "id": "ea6abadf-7798-437a-902e-48ded40f8a01",
   "metadata": {},
   "source": [
    "### Flag if anything is blocking the node"
   ]
  },
  {
   "cell_type": "code",
   "execution_count": 24,
   "id": "7788b93f-cb2a-4619-8eee-30ab53705356",
   "metadata": {},
   "outputs": [
    {
     "name": "stdout",
     "output_type": "stream",
     "text": [
      "2027\n",
      "2027\n"
     ]
    }
   ],
   "source": [
    "### Numerical status representation- DONE flag\n",
    "node_df['DoneFlag']=node_df['status_name'].apply(lambda x: 1 if x in ['Done','No longer relevant'] else 0)\n",
    "\n",
    "dependents_status=node_df.loc[:,['name','predecessors']].explode('predecessors').merge(node_df.loc[:,['name','DoneFlag']], how='inner',left_on='predecessors',right_on='name',suffixes=['','_pred'])\\\n",
    ".groupby('name')['DoneFlag'].min().reset_index().rename(columns={'DoneFlag':'All_Dependents_Done'})\n",
    "\n",
    "print(len(node_df))\n",
    "try:\n",
    "    node_df=node_df.drop(columns=['All_Dependents_Done'])\n",
    "except:\n",
    "    pass\n",
    "node_df=node_df.merge(dependents_status, on='name', how='left')\n",
    "print(len(node_df))\n",
    "\n",
    "def isblocked(row):\n",
    "    if len(row['predecessors'])==0:\n",
    "        return False\n",
    "    elif row['All_Dependents_Done']==1:\n",
    "        return False\n",
    "    else:\n",
    "        return True\n",
    "    \n",
    "node_df['isBlocked']=node_df.apply(isblocked,axis=1)\n",
    "\n"
   ]
  },
  {
   "cell_type": "code",
   "execution_count": 25,
   "id": "a623ee8b-6b6a-4176-b286-0f510f48e140",
   "metadata": {},
   "outputs": [],
   "source": [
    "pickle.dump((node_df,edge_df,G), open(f\"3-Jira_DataRoadmapLatest.pickle\", \"wb\" ) )"
   ]
  },
  {
   "cell_type": "code",
   "execution_count": 26,
   "id": "34cfa3cf-9d6e-4d0a-b3fb-317d235941d9",
   "metadata": {},
   "outputs": [
    {
     "name": "stdout",
     "output_type": "stream",
     "text": [
      "All run!\n"
     ]
    }
   ],
   "source": [
    "print('All run!')"
   ]
  },
  {
   "cell_type": "code",
   "execution_count": null,
   "id": "2ae0816c-38b4-4ddb-8136-ca2ae43b2817",
   "metadata": {},
   "outputs": [],
   "source": []
  },
  {
   "cell_type": "code",
   "execution_count": null,
   "id": "225d64fd-74b5-4171-aca9-7ac7655294f8",
   "metadata": {},
   "outputs": [],
   "source": []
  }
 ],
 "metadata": {
  "kernelspec": {
   "display_name": "kernel_for_atlassian",
   "language": "python",
   "name": "read_bitbucket"
  },
  "language_info": {
   "codemirror_mode": {
    "name": "ipython",
    "version": 3
   },
   "file_extension": ".py",
   "mimetype": "text/x-python",
   "name": "python",
   "nbconvert_exporter": "python",
   "pygments_lexer": "ipython3",
   "version": "3.9.7"
  }
 },
 "nbformat": 4,
 "nbformat_minor": 5
}
