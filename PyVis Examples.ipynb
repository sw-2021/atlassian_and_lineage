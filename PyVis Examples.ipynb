{
 "cells": [
  {
   "cell_type": "code",
   "execution_count": 2,
   "id": "6e7e939b-85c7-4c04-ae64-4a2e4a771b9d",
   "metadata": {},
   "outputs": [],
   "source": [
    "from pyvis.network import Network\n",
    "import json"
   ]
  },
  {
   "cell_type": "code",
   "execution_count": 18,
   "id": "bf0ebc22-8933-4796-a67a-220ab64d46f8",
   "metadata": {},
   "outputs": [],
   "source": [
    "# Create a pyvis Network object\n",
    "nt=Network(\"600px\",\"1800px\"\n",
    "           ,directed=True # Whether edges should be arrows\n",
    "           ,layout=True #Confusingly, this actually means whether you initialise with a Hierarchical layout... \n",
    "          )\n",
    "\n",
    "\n",
    "nt.add_nodes(['A1','2A','2B','A3','4A','4B'],\\\n",
    "              x=[1,2,2,3,4,4]\n",
    "            )\n",
    "\n",
    "nt.add_edges([('A1','2A'),('A1','2B'),('2A','A3'),('A3','4A'),('A3','4B'),('2B','4A')\n",
    "             ])\n",
    "\n",
    "# Hard code \"level\", which is the X axis position for LR direction or Y axis pos for UD position. If not set explicitly, \"directed\" will base it off the left-to-right direction, whilst \"hubsize\" will treat the most connected ndoes as the most important\n",
    "for num,n in enumerate(nt.nodes):\n",
    "    n.update({'level': [1.0,2,2,3,4,4][num],\n",
    "            }) # Stop pyvis' auto-algorithms overriding\n",
    "nt.show_buttons(filter_=['physics','layout'])\n",
    "\n",
    "nt.set_edge_smooth('continuous')\n",
    "nt.show('nx.html')\n"
   ]
  },
  {
   "cell_type": "code",
   "execution_count": 26,
   "id": "0e2c922e-6734-4ad4-9a6b-ab93daf2f8e0",
   "metadata": {},
   "outputs": [],
   "source": [
    "\n",
    "    \n",
    "#########################################################################################################################\n",
    "# Validation of inputs\n",
    "#########################################################################################################################\n",
    "\n",
    "# Create a pyvis Network object\n",
    "nt=Network(\"600px\",\"1800px\"\n",
    "           ,directed=True # Whether edges should be arrows\n",
    "           ,layout=True #Confusingly, this actually means whether you initialise with a Hierarchical layout... \n",
    "          )\n",
    "\n",
    "\n",
    "nt.add_nodes(['A1','2A','2B','A3','4A','4B'],\\\n",
    "              #level=[1,2,2,3,4,4]\n",
    "            )\n",
    "\n",
    "nt.add_edges([('A1','2A'),('A1','2B'),('2A','A3'),('A3','4A'),('A3','4B')#,('2B','4A')\n",
    "             ])\n",
    "\n",
    "# Hard code \"level\", which is the X axis position for LR direction or Y axis pos for UD position. If not set explicitly, \"directed\" will base it off the left-to-right direction, whilst \"hubsize\" will treat the most connected ndoes as the most important\n",
    "for num,n in enumerate(nt.nodes):\n",
    "    n.update({'level': [1,2,2,3,1,4][num],\n",
    "            }) # Stop pyvis' auto-algorithms overriding\n",
    "\n",
    "#nt.from_nx(G)\n",
    "nt.set_edge_smooth('continuous')\n",
    "\n",
    "for num,n in enumerate(nt.nodes):\n",
    "        if n['id']=='Dummy':\n",
    "            pass\n",
    "        else:\n",
    "            #n.update({'physics': True,'color':'#813d63'}) # Stop pyvis' auto-algorithms overriding\n",
    "            n.update({'physics': True,'color':'rgba(244,0,0,10)'}) # Stop pyvis' auto-algorithms overriding\n",
    "            n.update({'label':'''<h1 style=\"font-size:10vw\">Hello World</h1>\n",
    "            NewLine'''})\n",
    "#nt.repulsion(node_distance=250, central_gravity=0.1, spring_length=250, spring_strength=0.05, damping=0.09)\n",
    "nt.show_buttons(filter_=['physics','layout'])\n",
    "\n",
    "nt.hrepulsion(node_distance=465, central_gravity=0.0, spring_length=415, spring_strength=0.01, damping=0.09)\n",
    "\n",
    "######################################################## \n",
    "# Update layout properties for initialisation...\n",
    "# It seems that \"set options\" requires the entire JSON string, not just the bit being changed, so the below code tries to do that. Copy-pasting from the \"generate\" only works when all buttons are shown\n",
    "######################################################## \n",
    "options_as_a_string=nt.get_network_data()[-1] # Retrieve options as a JSON string\n",
    "options_as_a_dict=json.loads(options_as_a_string)\n",
    "options_as_a_dict['layout']['hierarchical']['levelSeparation']=-654\n",
    "options_as_a_dict['layout']['hierarchical'][\"nodeSpacing\"]= 600\n",
    "options_as_a_dict['layout']['hierarchical'][\"treeSpacing\"]=455\n",
    "options_as_a_dict['layout']['hierarchical'][\"direction\"]= \"LR\"\n",
    "options_as_a_dict['layout']['hierarchical'][\"blockShifting\"]=True\n",
    "options_as_a_dict['layout']['hierarchical'][\"sortMethod\"]=\"directed\" #\n",
    "\n",
    "options_as_a_string=json.dumps(options_as_a_dict)\n",
    "nt.set_options(options_as_a_string)\n",
    "\n",
    "nt.show('nx.html')\n"
   ]
  },
  {
   "cell_type": "code",
   "execution_count": 19,
   "id": "26796657-0b65-48a5-af87-b662e41d6653",
   "metadata": {},
   "outputs": [
    {
     "data": {
      "text/plain": [
       "'{\"configure\": {\"enabled\": true, \"filter\": [\"physics\", \"layout\"]}, \"edges\": {\"color\": {\"inherit\": true}, \"smooth\": {\"enabled\": true, \"type\": \"continuous\"}}, \"interaction\": {\"dragNodes\": true, \"hideEdgesOnDrag\": false, \"hideNodesOnDrag\": false}, \"layout\": {\"hierarchical\": {\"blockShifting\": true, \"edgeMinimization\": true, \"enabled\": true, \"levelSeparation\": -654, \"parentCentralization\": true, \"sortMethod\": \"directed\", \"treeSpacing\": 455, \"nodeSpacing\": 600, \"direction\": \"LR\"}, \"improvedLayout\": true, \"randomSeed\": 0}, \"physics\": {\"enabled\": true, \"hierarchicalRepulsion\": {\"centralGravity\": 0.0, \"damping\": 0.09, \"nodeDistance\": 465, \"springConstant\": 0.01, \"springLength\": 415}, \"solver\": \"hierarchicalRepulsion\", \"stabilization\": {\"enabled\": true, \"fit\": true, \"iterations\": 1000, \"onlyDynamicEdges\": false, \"updateInterval\": 50}}}'"
      ]
     },
     "execution_count": 19,
     "metadata": {},
     "output_type": "execute_result"
    }
   ],
   "source": [
    "options_as_a_string=nt.get_network_data()[-1] # Retrieve ALL options\n",
    "options_as_a_string"
   ]
  },
  {
   "cell_type": "code",
   "execution_count": 20,
   "id": "d5dfcf3d-2752-4e91-a33d-4ec999cc836d",
   "metadata": {},
   "outputs": [],
   "source": [
    "options_as_a_dict=json.loads(options_as_a_string)"
   ]
  },
  {
   "cell_type": "code",
   "execution_count": 21,
   "id": "624ba8c8-e70f-4a39-926c-b3a16861689d",
   "metadata": {},
   "outputs": [],
   "source": [
    "new_opts_as_a_string='''{\n",
    "  \"layout\": {\n",
    "    \"hierarchical\": {\n",
    "      \"enabled\": true,\n",
    "      \"levelSeparation\": 610,\n",
    "      \"nodeSpacing\": 130,\n",
    "      \"treeSpacing\": 150,\n",
    "      \"direction\": \"LR\",\n",
    "      \"sortMethod\": \"directed\"\n",
    "    }\n",
    "  },\n",
    "  \"physics\": {\n",
    "    \"hierarchicalRepulsion\": {\n",
    "      \"centralGravity\": 0\n",
    "    },\n",
    "    \"minVelocity\": 0.75,\n",
    "    \"solver\": \"hierarchicalRepulsion\"\n",
    "  }\n",
    "}'''\n"
   ]
  },
  {
   "cell_type": "code",
   "execution_count": 14,
   "id": "1f66a68a-154b-4db3-ad3d-a1e72606317d",
   "metadata": {},
   "outputs": [
    {
     "name": "stdout",
     "output_type": "stream",
     "text": [
      "layout\n",
      "physics\n"
     ]
    }
   ],
   "source": [
    "for macro_key in options_as_a_dict.keys():\n",
    "    if macro_key in new_opts_as_a_dict.keys():\n",
    "        print(macro_key)\n",
    "        if isinstance(new_opts_as_a_dict[macro_key],dict):\n",
    "            # Loop keys\n",
    "            for micro_key in new_opts_as_a_dict[macro_key].keys():\n",
    "                "
   ]
  },
  {
   "cell_type": "code",
   "execution_count": 22,
   "id": "77c4bf76-c85c-48e9-b17a-e8e05cae76e1",
   "metadata": {},
   "outputs": [
    {
     "name": "stdout",
     "output_type": "stream",
     "text": [
      "{'configure': {'enabled': True, 'filter': ['physics', 'layout']},\n",
      " 'edges': {'color': {'inherit': True},\n",
      "           'smooth': {'enabled': True, 'type': 'continuous'}},\n",
      " 'interaction': {'dragNodes': True,\n",
      "                 'hideEdgesOnDrag': False,\n",
      "                 'hideNodesOnDrag': False},\n",
      " 'layout': {'hierarchical': {'blockShifting': True,\n",
      "                             'direction': 'LR',\n",
      "                             'edgeMinimization': True,\n",
      "                             'enabled': True,\n",
      "                             'levelSeparation': -654,\n",
      "                             'nodeSpacing': 600,\n",
      "                             'parentCentralization': True,\n",
      "                             'sortMethod': 'directed',\n",
      "                             'treeSpacing': 455},\n",
      "            'improvedLayout': True,\n",
      "            'randomSeed': 0},\n",
      " 'physics': {'enabled': True,\n",
      "             'hierarchicalRepulsion': {'centralGravity': 0.0,\n",
      "                                       'damping': 0.09,\n",
      "                                       'nodeDistance': 465,\n",
      "                                       'springConstant': 0.01,\n",
      "                                       'springLength': 415},\n",
      "             'solver': 'hierarchicalRepulsion',\n",
      "             'stabilization': {'enabled': True,\n",
      "                               'fit': True,\n",
      "                               'iterations': 1000,\n",
      "                               'onlyDynamicEdges': False,\n",
      "                               'updateInterval': 50}}}\n",
      "''\n",
      "{'layout': {'hierarchical': {'direction': 'LR',\n",
      "                             'enabled': True,\n",
      "                             'levelSeparation': 610,\n",
      "                             'nodeSpacing': 130,\n",
      "                             'sortMethod': 'directed',\n",
      "                             'treeSpacing': 150}},\n",
      " 'physics': {'hierarchicalRepulsion': {'centralGravity': 0},\n",
      "             'minVelocity': 0.75,\n",
      "             'solver': 'hierarchicalRepulsion'}}\n",
      "''\n",
      "{'configure': {'enabled': True, 'filter': ['physics', 'layout']},\n",
      " 'edges': {'color': {'inherit': True},\n",
      "           'smooth': {'enabled': True, 'type': 'continuous'}},\n",
      " 'interaction': {'dragNodes': True,\n",
      "                 'hideEdgesOnDrag': False,\n",
      "                 'hideNodesOnDrag': False},\n",
      " 'layout': {'hierarchical': {'blockShifting': True,\n",
      "                             'direction': 'LR',\n",
      "                             'edgeMinimization': True,\n",
      "                             'enabled': True,\n",
      "                             'levelSeparation': 610,\n",
      "                             'nodeSpacing': 130,\n",
      "                             'parentCentralization': True,\n",
      "                             'sortMethod': 'directed',\n",
      "                             'treeSpacing': 150},\n",
      "            'improvedLayout': True,\n",
      "            'randomSeed': 0},\n",
      " 'physics': {'enabled': True,\n",
      "             'hierarchicalRepulsion': {'centralGravity': 0,\n",
      "                                       'damping': 0.09,\n",
      "                                       'nodeDistance': 465,\n",
      "                                       'springConstant': 0.01,\n",
      "                                       'springLength': 415},\n",
      "             'minVelocity': 0.75,\n",
      "             'solver': 'hierarchicalRepulsion',\n",
      "             'stabilization': {'enabled': True,\n",
      "                               'fit': True,\n",
      "                               'iterations': 1000,\n",
      "                               'onlyDynamicEdges': False,\n",
      "                               'updateInterval': 50}}}\n"
     ]
    }
   ],
   "source": [
    "import collections.abc\n",
    "from pprint import pprint\n",
    "\n",
    "pprint(options_as_a_dict)\n",
    "pprint('')\n",
    "pprint(new_opts_as_a_dict)\n",
    "pprint('')\n",
    "\n",
    "pprint(options_as_a_dict)\n",
    "\n"
   ]
  },
  {
   "cell_type": "code",
   "execution_count": null,
   "id": "09b96b57-3933-446c-a499-e119524b09f0",
   "metadata": {},
   "outputs": [],
   "source": [
    "var options = {\n",
    "  \"layout\": {\n",
    "    \"hierarchical\": {\n",
    "      \"enabled\": true,\n",
    "      \"levelSeparation\": 525,\n",
    "      \"nodeSpacing\": 455,\n",
    "      \"direction\": \"LR\",\n",
    "      \"sortMethod\": \"directed\"\n",
    "    }\n",
    "  },\n",
    "  \"physics\": {\n",
    "    \"hierarchicalRepulsion\": {\n",
    "      \"centralGravity\": 0\n",
    "    },\n",
    "    \"minVelocity\": 0.75,\n",
    "    \"solver\": \"hierarchicalRepulsion\"\n",
    "  }\n",
    "}"
   ]
  }
 ],
 "metadata": {
  "kernelspec": {
   "display_name": "kernel_for_atlassian",
   "language": "python",
   "name": "read_bitbucket"
  },
  "language_info": {
   "codemirror_mode": {
    "name": "ipython",
    "version": 3
   },
   "file_extension": ".py",
   "mimetype": "text/x-python",
   "name": "python",
   "nbconvert_exporter": "python",
   "pygments_lexer": "ipython3",
   "version": "3.9.7"
  }
 },
 "nbformat": 4,
 "nbformat_minor": 5
}
